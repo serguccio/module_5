{
 "cells": [
  {
   "cell_type": "markdown",
   "metadata": {
    "papermill": {
     "duration": 0.036501,
     "end_time": "2021-04-11T17:19:03.068488",
     "exception": false,
     "start_time": "2021-04-11T17:19:03.031987",
     "status": "completed"
    },
    "tags": []
   },
   "source": [
    "ПРОЕКТ 5. КОМПЬЮТЕР ГОВОРИТ \"НЕТ\""
   ]
  },
  {
   "cell_type": "markdown",
   "metadata": {
    "papermill": {
     "duration": 0.033806,
     "end_time": "2021-04-11T17:19:03.137307",
     "exception": false,
     "start_time": "2021-04-11T17:19:03.103501",
     "status": "completed"
    },
    "tags": []
   },
   "source": [
    "**ПЕРВОНАЧАЛЬНАЯ ПОДГОТОВКА**"
   ]
  },
  {
   "cell_type": "code",
   "execution_count": 1,
   "metadata": {
    "execution": {
     "iopub.execute_input": "2021-04-11T17:19:03.208667Z",
     "iopub.status.busy": "2021-04-11T17:19:03.208049Z",
     "iopub.status.idle": "2021-04-11T17:19:04.530959Z",
     "shell.execute_reply": "2021-04-11T17:19:04.530364Z"
    },
    "papermill": {
     "duration": 1.359647,
     "end_time": "2021-04-11T17:19:04.531159",
     "exception": false,
     "start_time": "2021-04-11T17:19:03.171512",
     "status": "completed"
    },
    "tags": []
   },
   "outputs": [],
   "source": [
    "# импортируем необхоимые библиотеки\n",
    "import pandas as pd\n",
    "import numpy as np\n",
    "from datetime import datetime\n",
    "\n",
    "import matplotlib.pyplot as plt\n",
    "import seaborn as sns\n",
    "\n",
    "from sklearn.feature_selection import f_classif, mutual_info_classif\n",
    "from sklearn.preprocessing import LabelEncoder, OneHotEncoder, StandardScaler\n",
    "\n",
    "from sklearn.model_selection import train_test_split\n",
    "from sklearn.model_selection import GridSearchCV\n",
    "from sklearn.linear_model import LogisticRegression\n",
    "\n",
    "from sklearn.metrics import confusion_matrix, ConfusionMatrixDisplay\n",
    "from sklearn.metrics import auc, roc_auc_score, roc_curve, mean_squared_error\n",
    "from sklearn.metrics import accuracy_score, precision_score, recall_score, f1_score\n",
    "\n",
    "import warnings \n",
    "warnings.filterwarnings('ignore')"
   ]
  },
  {
   "cell_type": "code",
   "execution_count": 2,
   "metadata": {
    "execution": {
     "iopub.execute_input": "2021-04-11T17:19:04.603845Z",
     "iopub.status.busy": "2021-04-11T17:19:04.602934Z",
     "iopub.status.idle": "2021-04-11T17:19:04.607941Z",
     "shell.execute_reply": "2021-04-11T17:19:04.607476Z"
    },
    "papermill": {
     "duration": 0.042862,
     "end_time": "2021-04-11T17:19:04.608080",
     "exception": false,
     "start_time": "2021-04-11T17:19:04.565218",
     "status": "completed"
    },
    "tags": []
   },
   "outputs": [
    {
     "name": "stdout",
     "output_type": "stream",
     "text": [
      "/kaggle/input/sf-dst-scoring/sample_submission.csv\n",
      "/kaggle/input/sf-dst-scoring/train.csv\n",
      "/kaggle/input/sf-dst-scoring/test.csv\n"
     ]
    }
   ],
   "source": [
    "# произведем настройки отображения всех столбцов\n",
    "pd.set_option('display.max_columns', 50)  \n",
    "\n",
    "# настраиваем получение информации в kaggle \n",
    "import os\n",
    "for dirname, _, filenames in os.walk('/kaggle/input'):\n",
    "    for filename in filenames:\n",
    "        print(os.path.join(dirname, filename))"
   ]
  },
  {
   "cell_type": "markdown",
   "metadata": {
    "papermill": {
     "duration": 0.033046,
     "end_time": "2021-04-11T17:19:04.675121",
     "exception": false,
     "start_time": "2021-04-11T17:19:04.642075",
     "status": "completed"
    },
    "tags": []
   },
   "source": [
    "**ЗАГРУЗКА ДАННЫХ**"
   ]
  },
  {
   "cell_type": "code",
   "execution_count": 3,
   "metadata": {
    "execution": {
     "iopub.execute_input": "2021-04-11T17:19:04.747098Z",
     "iopub.status.busy": "2021-04-11T17:19:04.746514Z",
     "iopub.status.idle": "2021-04-11T17:19:05.040055Z",
     "shell.execute_reply": "2021-04-11T17:19:05.039479Z"
    },
    "papermill": {
     "duration": 0.331707,
     "end_time": "2021-04-11T17:19:05.040205",
     "exception": false,
     "start_time": "2021-04-11T17:19:04.708498",
     "status": "completed"
    },
    "tags": []
   },
   "outputs": [],
   "source": [
    "# загрузим данные\n",
    "path = '/kaggle/input/sf-dst-scoring/'\n",
    "train = pd.read_csv(path +'/train.csv')\n",
    "test = pd.read_csv(path +'test.csv')\n",
    "sample_submission = pd.read_csv(path +'/sample_submission.csv')"
   ]
  },
  {
   "cell_type": "markdown",
   "metadata": {
    "papermill": {
     "duration": 0.033278,
     "end_time": "2021-04-11T17:19:05.107228",
     "exception": false,
     "start_time": "2021-04-11T17:19:05.073950",
     "status": "completed"
    },
    "tags": []
   },
   "source": [
    "**ПЕРВОНАЧАЛЬНЫЙ ПРОСМОТР ИСХОДНЫХ ДАННЫХ**"
   ]
  },
  {
   "cell_type": "code",
   "execution_count": 4,
   "metadata": {
    "execution": {
     "iopub.execute_input": "2021-04-11T17:19:05.206727Z",
     "iopub.status.busy": "2021-04-11T17:19:05.187745Z",
     "iopub.status.idle": "2021-04-11T17:19:05.225593Z",
     "shell.execute_reply": "2021-04-11T17:19:05.225099Z"
    },
    "papermill": {
     "duration": 0.083473,
     "end_time": "2021-04-11T17:19:05.225743",
     "exception": false,
     "start_time": "2021-04-11T17:19:05.142270",
     "status": "completed"
    },
    "tags": []
   },
   "outputs": [
    {
     "name": "stdout",
     "output_type": "stream",
     "text": [
      "<class 'pandas.core.frame.DataFrame'>\n",
      "RangeIndex: 73799 entries, 0 to 73798\n",
      "Data columns (total 19 columns):\n",
      " #   Column            Non-Null Count  Dtype  \n",
      "---  ------            --------------  -----  \n",
      " 0   client_id         73799 non-null  int64  \n",
      " 1   app_date          73799 non-null  object \n",
      " 2   education         73492 non-null  object \n",
      " 3   sex               73799 non-null  object \n",
      " 4   age               73799 non-null  int64  \n",
      " 5   car               73799 non-null  object \n",
      " 6   car_type          73799 non-null  object \n",
      " 7   decline_app_cnt   73799 non-null  int64  \n",
      " 8   good_work         73799 non-null  int64  \n",
      " 9   score_bki         73799 non-null  float64\n",
      " 10  bki_request_cnt   73799 non-null  int64  \n",
      " 11  region_rating     73799 non-null  int64  \n",
      " 12  home_address      73799 non-null  int64  \n",
      " 13  work_address      73799 non-null  int64  \n",
      " 14  income            73799 non-null  int64  \n",
      " 15  sna               73799 non-null  int64  \n",
      " 16  first_time        73799 non-null  int64  \n",
      " 17  foreign_passport  73799 non-null  object \n",
      " 18  default           73799 non-null  int64  \n",
      "dtypes: float64(1), int64(12), object(6)\n",
      "memory usage: 10.7+ MB\n"
     ]
    }
   ],
   "source": [
    "# рассмотрим информацию по тренировочному датасету\n",
    "train.info()"
   ]
  },
  {
   "cell_type": "code",
   "execution_count": 5,
   "metadata": {
    "execution": {
     "iopub.execute_input": "2021-04-11T17:19:05.316525Z",
     "iopub.status.busy": "2021-04-11T17:19:05.297994Z",
     "iopub.status.idle": "2021-04-11T17:19:05.326909Z",
     "shell.execute_reply": "2021-04-11T17:19:05.326380Z"
    },
    "papermill": {
     "duration": 0.067178,
     "end_time": "2021-04-11T17:19:05.327039",
     "exception": false,
     "start_time": "2021-04-11T17:19:05.259861",
     "status": "completed"
    },
    "tags": []
   },
   "outputs": [
    {
     "name": "stdout",
     "output_type": "stream",
     "text": [
      "Всего пропусков:\n"
     ]
    },
    {
     "data": {
      "text/plain": [
       "client_id             0\n",
       "app_date              0\n",
       "education           307\n",
       "sex                   0\n",
       "age                   0\n",
       "car                   0\n",
       "car_type              0\n",
       "decline_app_cnt       0\n",
       "good_work             0\n",
       "score_bki             0\n",
       "bki_request_cnt       0\n",
       "region_rating         0\n",
       "home_address          0\n",
       "work_address          0\n",
       "income                0\n",
       "sna                   0\n",
       "first_time            0\n",
       "foreign_passport      0\n",
       "default               0\n",
       "dtype: int64"
      ]
     },
     "execution_count": 5,
     "metadata": {},
     "output_type": "execute_result"
    }
   ],
   "source": [
    "print('Всего пропусков:')\n",
    "train.isnull().sum()"
   ]
  },
  {
   "cell_type": "code",
   "execution_count": 6,
   "metadata": {
    "execution": {
     "iopub.execute_input": "2021-04-11T17:19:05.398567Z",
     "iopub.status.busy": "2021-04-11T17:19:05.397986Z",
     "iopub.status.idle": "2021-04-11T17:19:05.426137Z",
     "shell.execute_reply": "2021-04-11T17:19:05.425663Z"
    },
    "papermill": {
     "duration": 0.065017,
     "end_time": "2021-04-11T17:19:05.426269",
     "exception": false,
     "start_time": "2021-04-11T17:19:05.361252",
     "status": "completed"
    },
    "tags": []
   },
   "outputs": [
    {
     "name": "stdout",
     "output_type": "stream",
     "text": [
      "В тренировочном датасете train 73799 строк и 19 признаков.\n"
     ]
    },
    {
     "data": {
      "text/html": [
       "<div>\n",
       "<style scoped>\n",
       "    .dataframe tbody tr th:only-of-type {\n",
       "        vertical-align: middle;\n",
       "    }\n",
       "\n",
       "    .dataframe tbody tr th {\n",
       "        vertical-align: top;\n",
       "    }\n",
       "\n",
       "    .dataframe thead th {\n",
       "        text-align: right;\n",
       "    }\n",
       "</style>\n",
       "<table border=\"1\" class=\"dataframe\">\n",
       "  <thead>\n",
       "    <tr style=\"text-align: right;\">\n",
       "      <th></th>\n",
       "      <th>client_id</th>\n",
       "      <th>app_date</th>\n",
       "      <th>education</th>\n",
       "      <th>sex</th>\n",
       "      <th>age</th>\n",
       "      <th>car</th>\n",
       "      <th>car_type</th>\n",
       "      <th>decline_app_cnt</th>\n",
       "      <th>good_work</th>\n",
       "      <th>score_bki</th>\n",
       "      <th>bki_request_cnt</th>\n",
       "      <th>region_rating</th>\n",
       "      <th>home_address</th>\n",
       "      <th>work_address</th>\n",
       "      <th>income</th>\n",
       "      <th>sna</th>\n",
       "      <th>first_time</th>\n",
       "      <th>foreign_passport</th>\n",
       "      <th>default</th>\n",
       "    </tr>\n",
       "  </thead>\n",
       "  <tbody>\n",
       "    <tr>\n",
       "      <th>69859</th>\n",
       "      <td>40604</td>\n",
       "      <td>17FEB2014</td>\n",
       "      <td>SCH</td>\n",
       "      <td>F</td>\n",
       "      <td>52</td>\n",
       "      <td>N</td>\n",
       "      <td>N</td>\n",
       "      <td>0</td>\n",
       "      <td>0</td>\n",
       "      <td>-1.920799</td>\n",
       "      <td>3</td>\n",
       "      <td>60</td>\n",
       "      <td>2</td>\n",
       "      <td>3</td>\n",
       "      <td>67000</td>\n",
       "      <td>3</td>\n",
       "      <td>1</td>\n",
       "      <td>N</td>\n",
       "      <td>0</td>\n",
       "    </tr>\n",
       "    <tr>\n",
       "      <th>18662</th>\n",
       "      <td>75921</td>\n",
       "      <td>24MAR2014</td>\n",
       "      <td>GRD</td>\n",
       "      <td>M</td>\n",
       "      <td>34</td>\n",
       "      <td>Y</td>\n",
       "      <td>N</td>\n",
       "      <td>0</td>\n",
       "      <td>0</td>\n",
       "      <td>-2.196270</td>\n",
       "      <td>1</td>\n",
       "      <td>40</td>\n",
       "      <td>1</td>\n",
       "      <td>2</td>\n",
       "      <td>20000</td>\n",
       "      <td>2</td>\n",
       "      <td>1</td>\n",
       "      <td>N</td>\n",
       "      <td>0</td>\n",
       "    </tr>\n",
       "    <tr>\n",
       "      <th>57893</th>\n",
       "      <td>34955</td>\n",
       "      <td>11FEB2014</td>\n",
       "      <td>UGR</td>\n",
       "      <td>M</td>\n",
       "      <td>50</td>\n",
       "      <td>N</td>\n",
       "      <td>N</td>\n",
       "      <td>0</td>\n",
       "      <td>0</td>\n",
       "      <td>-1.012889</td>\n",
       "      <td>0</td>\n",
       "      <td>50</td>\n",
       "      <td>1</td>\n",
       "      <td>1</td>\n",
       "      <td>50000</td>\n",
       "      <td>1</td>\n",
       "      <td>4</td>\n",
       "      <td>Y</td>\n",
       "      <td>1</td>\n",
       "    </tr>\n",
       "    <tr>\n",
       "      <th>60194</th>\n",
       "      <td>49263</td>\n",
       "      <td>26FEB2014</td>\n",
       "      <td>SCH</td>\n",
       "      <td>F</td>\n",
       "      <td>48</td>\n",
       "      <td>N</td>\n",
       "      <td>N</td>\n",
       "      <td>1</td>\n",
       "      <td>0</td>\n",
       "      <td>-1.052153</td>\n",
       "      <td>6</td>\n",
       "      <td>50</td>\n",
       "      <td>2</td>\n",
       "      <td>3</td>\n",
       "      <td>18000</td>\n",
       "      <td>2</td>\n",
       "      <td>3</td>\n",
       "      <td>N</td>\n",
       "      <td>0</td>\n",
       "    </tr>\n",
       "    <tr>\n",
       "      <th>69647</th>\n",
       "      <td>36189</td>\n",
       "      <td>12FEB2014</td>\n",
       "      <td>SCH</td>\n",
       "      <td>M</td>\n",
       "      <td>29</td>\n",
       "      <td>Y</td>\n",
       "      <td>Y</td>\n",
       "      <td>0</td>\n",
       "      <td>0</td>\n",
       "      <td>-2.510280</td>\n",
       "      <td>2</td>\n",
       "      <td>50</td>\n",
       "      <td>1</td>\n",
       "      <td>2</td>\n",
       "      <td>40000</td>\n",
       "      <td>1</td>\n",
       "      <td>2</td>\n",
       "      <td>N</td>\n",
       "      <td>0</td>\n",
       "    </tr>\n",
       "    <tr>\n",
       "      <th>60014</th>\n",
       "      <td>37086</td>\n",
       "      <td>13FEB2014</td>\n",
       "      <td>SCH</td>\n",
       "      <td>M</td>\n",
       "      <td>27</td>\n",
       "      <td>N</td>\n",
       "      <td>N</td>\n",
       "      <td>0</td>\n",
       "      <td>1</td>\n",
       "      <td>-1.333105</td>\n",
       "      <td>4</td>\n",
       "      <td>50</td>\n",
       "      <td>1</td>\n",
       "      <td>2</td>\n",
       "      <td>27000</td>\n",
       "      <td>1</td>\n",
       "      <td>3</td>\n",
       "      <td>N</td>\n",
       "      <td>0</td>\n",
       "    </tr>\n",
       "    <tr>\n",
       "      <th>26846</th>\n",
       "      <td>40790</td>\n",
       "      <td>17FEB2014</td>\n",
       "      <td>GRD</td>\n",
       "      <td>F</td>\n",
       "      <td>46</td>\n",
       "      <td>N</td>\n",
       "      <td>N</td>\n",
       "      <td>0</td>\n",
       "      <td>0</td>\n",
       "      <td>-1.771782</td>\n",
       "      <td>3</td>\n",
       "      <td>50</td>\n",
       "      <td>2</td>\n",
       "      <td>2</td>\n",
       "      <td>33000</td>\n",
       "      <td>1</td>\n",
       "      <td>4</td>\n",
       "      <td>N</td>\n",
       "      <td>0</td>\n",
       "    </tr>\n",
       "    <tr>\n",
       "      <th>63212</th>\n",
       "      <td>8494</td>\n",
       "      <td>15JAN2014</td>\n",
       "      <td>UGR</td>\n",
       "      <td>M</td>\n",
       "      <td>26</td>\n",
       "      <td>N</td>\n",
       "      <td>N</td>\n",
       "      <td>0</td>\n",
       "      <td>1</td>\n",
       "      <td>-1.602942</td>\n",
       "      <td>0</td>\n",
       "      <td>80</td>\n",
       "      <td>2</td>\n",
       "      <td>3</td>\n",
       "      <td>70000</td>\n",
       "      <td>2</td>\n",
       "      <td>1</td>\n",
       "      <td>Y</td>\n",
       "      <td>0</td>\n",
       "    </tr>\n",
       "    <tr>\n",
       "      <th>48354</th>\n",
       "      <td>23951</td>\n",
       "      <td>30JAN2014</td>\n",
       "      <td>GRD</td>\n",
       "      <td>F</td>\n",
       "      <td>50</td>\n",
       "      <td>N</td>\n",
       "      <td>N</td>\n",
       "      <td>0</td>\n",
       "      <td>0</td>\n",
       "      <td>-1.849087</td>\n",
       "      <td>3</td>\n",
       "      <td>80</td>\n",
       "      <td>2</td>\n",
       "      <td>3</td>\n",
       "      <td>47000</td>\n",
       "      <td>1</td>\n",
       "      <td>4</td>\n",
       "      <td>N</td>\n",
       "      <td>0</td>\n",
       "    </tr>\n",
       "    <tr>\n",
       "      <th>63172</th>\n",
       "      <td>9778</td>\n",
       "      <td>17JAN2014</td>\n",
       "      <td>SCH</td>\n",
       "      <td>F</td>\n",
       "      <td>27</td>\n",
       "      <td>N</td>\n",
       "      <td>N</td>\n",
       "      <td>0</td>\n",
       "      <td>0</td>\n",
       "      <td>-2.416642</td>\n",
       "      <td>2</td>\n",
       "      <td>60</td>\n",
       "      <td>2</td>\n",
       "      <td>3</td>\n",
       "      <td>20000</td>\n",
       "      <td>1</td>\n",
       "      <td>1</td>\n",
       "      <td>N</td>\n",
       "      <td>0</td>\n",
       "    </tr>\n",
       "  </tbody>\n",
       "</table>\n",
       "</div>"
      ],
      "text/plain": [
       "       client_id   app_date education sex  age car car_type  decline_app_cnt  \\\n",
       "69859      40604  17FEB2014       SCH   F   52   N        N                0   \n",
       "18662      75921  24MAR2014       GRD   M   34   Y        N                0   \n",
       "57893      34955  11FEB2014       UGR   M   50   N        N                0   \n",
       "60194      49263  26FEB2014       SCH   F   48   N        N                1   \n",
       "69647      36189  12FEB2014       SCH   M   29   Y        Y                0   \n",
       "60014      37086  13FEB2014       SCH   M   27   N        N                0   \n",
       "26846      40790  17FEB2014       GRD   F   46   N        N                0   \n",
       "63212       8494  15JAN2014       UGR   M   26   N        N                0   \n",
       "48354      23951  30JAN2014       GRD   F   50   N        N                0   \n",
       "63172       9778  17JAN2014       SCH   F   27   N        N                0   \n",
       "\n",
       "       good_work  score_bki  bki_request_cnt  region_rating  home_address  \\\n",
       "69859          0  -1.920799                3             60             2   \n",
       "18662          0  -2.196270                1             40             1   \n",
       "57893          0  -1.012889                0             50             1   \n",
       "60194          0  -1.052153                6             50             2   \n",
       "69647          0  -2.510280                2             50             1   \n",
       "60014          1  -1.333105                4             50             1   \n",
       "26846          0  -1.771782                3             50             2   \n",
       "63212          1  -1.602942                0             80             2   \n",
       "48354          0  -1.849087                3             80             2   \n",
       "63172          0  -2.416642                2             60             2   \n",
       "\n",
       "       work_address  income  sna  first_time foreign_passport  default  \n",
       "69859             3   67000    3           1                N        0  \n",
       "18662             2   20000    2           1                N        0  \n",
       "57893             1   50000    1           4                Y        1  \n",
       "60194             3   18000    2           3                N        0  \n",
       "69647             2   40000    1           2                N        0  \n",
       "60014             2   27000    1           3                N        0  \n",
       "26846             2   33000    1           4                N        0  \n",
       "63212             3   70000    2           1                Y        0  \n",
       "48354             3   47000    1           4                N        0  \n",
       "63172             3   20000    1           1                N        0  "
      ]
     },
     "metadata": {},
     "output_type": "display_data"
    }
   ],
   "source": [
    "print(f'В тренировочном датасете train {train.shape[0]} строк и {train.shape[1]} признаков.')\n",
    "\n",
    "# посмотрим на данные \n",
    "display(train.sample(10))"
   ]
  },
  {
   "cell_type": "code",
   "execution_count": 7,
   "metadata": {
    "_kg_hide-output": true,
    "execution": {
     "iopub.execute_input": "2021-04-11T17:19:05.503907Z",
     "iopub.status.busy": "2021-04-11T17:19:05.503321Z",
     "iopub.status.idle": "2021-04-11T17:19:05.733535Z",
     "shell.execute_reply": "2021-04-11T17:19:05.732556Z"
    },
    "papermill": {
     "duration": 0.271182,
     "end_time": "2021-04-11T17:19:05.733752",
     "exception": false,
     "start_time": "2021-04-11T17:19:05.462570",
     "status": "completed"
    },
    "tags": []
   },
   "outputs": [
    {
     "data": {
      "text/plain": [
       "Text(0.5, 1.0, 'Диаграма целевого признака default в тренировочном датасете, %')"
      ]
     },
     "execution_count": 7,
     "metadata": {},
     "output_type": "execute_result"
    },
    {
     "data": {
      "image/png": "[encoded data removed]",
      "text/plain": [
       "<Figure size 432x288 with 1 Axes>"
      ]
     },
     "metadata": {},
     "output_type": "display_data"
    }
   ],
   "source": [
    "# посмотрим на распределение целевого признака default на тренировочном датасете\n",
    "train['default'].value_counts().plot(kind='pie', label='', normalize=True, autopct=\"%.2f\")\n",
    "plt.legend()\n",
    "plt.title('Диаграма целевого признака default в тренировочном датасете, %')"
   ]
  },
  {
   "cell_type": "code",
   "execution_count": 8,
   "metadata": {
    "execution": {
     "iopub.execute_input": "2021-04-11T17:19:05.822282Z",
     "iopub.status.busy": "2021-04-11T17:19:05.812428Z",
     "iopub.status.idle": "2021-04-11T17:19:05.835085Z",
     "shell.execute_reply": "2021-04-11T17:19:05.835516Z"
    },
    "papermill": {
     "duration": 0.064874,
     "end_time": "2021-04-11T17:19:05.835710",
     "exception": false,
     "start_time": "2021-04-11T17:19:05.770836",
     "status": "completed"
    },
    "tags": []
   },
   "outputs": [
    {
     "name": "stdout",
     "output_type": "stream",
     "text": [
      "<class 'pandas.core.frame.DataFrame'>\n",
      "RangeIndex: 36349 entries, 0 to 36348\n",
      "Data columns (total 18 columns):\n",
      " #   Column            Non-Null Count  Dtype  \n",
      "---  ------            --------------  -----  \n",
      " 0   client_id         36349 non-null  int64  \n",
      " 1   app_date          36349 non-null  object \n",
      " 2   education         36178 non-null  object \n",
      " 3   sex               36349 non-null  object \n",
      " 4   age               36349 non-null  int64  \n",
      " 5   car               36349 non-null  object \n",
      " 6   car_type          36349 non-null  object \n",
      " 7   decline_app_cnt   36349 non-null  int64  \n",
      " 8   good_work         36349 non-null  int64  \n",
      " 9   score_bki         36349 non-null  float64\n",
      " 10  bki_request_cnt   36349 non-null  int64  \n",
      " 11  region_rating     36349 non-null  int64  \n",
      " 12  home_address      36349 non-null  int64  \n",
      " 13  work_address      36349 non-null  int64  \n",
      " 14  income            36349 non-null  int64  \n",
      " 15  sna               36349 non-null  int64  \n",
      " 16  first_time        36349 non-null  int64  \n",
      " 17  foreign_passport  36349 non-null  object \n",
      "dtypes: float64(1), int64(11), object(6)\n",
      "memory usage: 5.0+ MB\n"
     ]
    }
   ],
   "source": [
    "# аналогично рассмотрим теперь тестовый датасет\n",
    "test.info()"
   ]
  },
  {
   "cell_type": "code",
   "execution_count": 9,
   "metadata": {
    "execution": {
     "iopub.execute_input": "2021-04-11T17:19:05.923936Z",
     "iopub.status.busy": "2021-04-11T17:19:05.923350Z",
     "iopub.status.idle": "2021-04-11T17:19:05.932499Z",
     "shell.execute_reply": "2021-04-11T17:19:05.931941Z"
    },
    "papermill": {
     "duration": 0.059845,
     "end_time": "2021-04-11T17:19:05.932646",
     "exception": false,
     "start_time": "2021-04-11T17:19:05.872801",
     "status": "completed"
    },
    "tags": []
   },
   "outputs": [
    {
     "name": "stdout",
     "output_type": "stream",
     "text": [
      "Всего пропусков:\n"
     ]
    },
    {
     "data": {
      "text/plain": [
       "client_id             0\n",
       "app_date              0\n",
       "education           171\n",
       "sex                   0\n",
       "age                   0\n",
       "car                   0\n",
       "car_type              0\n",
       "decline_app_cnt       0\n",
       "good_work             0\n",
       "score_bki             0\n",
       "bki_request_cnt       0\n",
       "region_rating         0\n",
       "home_address          0\n",
       "work_address          0\n",
       "income                0\n",
       "sna                   0\n",
       "first_time            0\n",
       "foreign_passport      0\n",
       "dtype: int64"
      ]
     },
     "execution_count": 9,
     "metadata": {},
     "output_type": "execute_result"
    }
   ],
   "source": [
    "print('Всего пропусков:')\n",
    "test.isnull().sum()"
   ]
  },
  {
   "cell_type": "code",
   "execution_count": 10,
   "metadata": {
    "execution": {
     "iopub.execute_input": "2021-04-11T17:19:06.015526Z",
     "iopub.status.busy": "2021-04-11T17:19:06.014655Z",
     "iopub.status.idle": "2021-04-11T17:19:06.036993Z",
     "shell.execute_reply": "2021-04-11T17:19:06.037393Z"
    },
    "papermill": {
     "duration": 0.063863,
     "end_time": "2021-04-11T17:19:06.037567",
     "exception": false,
     "start_time": "2021-04-11T17:19:05.973704",
     "status": "completed"
    },
    "tags": []
   },
   "outputs": [
    {
     "name": "stdout",
     "output_type": "stream",
     "text": [
      "В тестовом датасете test 36349 строк и 18 признаков.\n"
     ]
    },
    {
     "data": {
      "text/html": [
       "<div>\n",
       "<style scoped>\n",
       "    .dataframe tbody tr th:only-of-type {\n",
       "        vertical-align: middle;\n",
       "    }\n",
       "\n",
       "    .dataframe tbody tr th {\n",
       "        vertical-align: top;\n",
       "    }\n",
       "\n",
       "    .dataframe thead th {\n",
       "        text-align: right;\n",
       "    }\n",
       "</style>\n",
       "<table border=\"1\" class=\"dataframe\">\n",
       "  <thead>\n",
       "    <tr style=\"text-align: right;\">\n",
       "      <th></th>\n",
       "      <th>client_id</th>\n",
       "      <th>app_date</th>\n",
       "      <th>education</th>\n",
       "      <th>sex</th>\n",
       "      <th>age</th>\n",
       "      <th>car</th>\n",
       "      <th>car_type</th>\n",
       "      <th>decline_app_cnt</th>\n",
       "      <th>good_work</th>\n",
       "      <th>score_bki</th>\n",
       "      <th>bki_request_cnt</th>\n",
       "      <th>region_rating</th>\n",
       "      <th>home_address</th>\n",
       "      <th>work_address</th>\n",
       "      <th>income</th>\n",
       "      <th>sna</th>\n",
       "      <th>first_time</th>\n",
       "      <th>foreign_passport</th>\n",
       "    </tr>\n",
       "  </thead>\n",
       "  <tbody>\n",
       "    <tr>\n",
       "      <th>16992</th>\n",
       "      <td>51547</td>\n",
       "      <td>28FEB2014</td>\n",
       "      <td>SCH</td>\n",
       "      <td>F</td>\n",
       "      <td>33</td>\n",
       "      <td>Y</td>\n",
       "      <td>Y</td>\n",
       "      <td>0</td>\n",
       "      <td>0</td>\n",
       "      <td>-1.663588</td>\n",
       "      <td>1</td>\n",
       "      <td>50</td>\n",
       "      <td>2</td>\n",
       "      <td>3</td>\n",
       "      <td>35000</td>\n",
       "      <td>1</td>\n",
       "      <td>3</td>\n",
       "      <td>N</td>\n",
       "    </tr>\n",
       "    <tr>\n",
       "      <th>23191</th>\n",
       "      <td>52709</td>\n",
       "      <td>01MAR2014</td>\n",
       "      <td>GRD</td>\n",
       "      <td>M</td>\n",
       "      <td>28</td>\n",
       "      <td>N</td>\n",
       "      <td>N</td>\n",
       "      <td>0</td>\n",
       "      <td>0</td>\n",
       "      <td>-1.131629</td>\n",
       "      <td>1</td>\n",
       "      <td>50</td>\n",
       "      <td>1</td>\n",
       "      <td>3</td>\n",
       "      <td>40000</td>\n",
       "      <td>1</td>\n",
       "      <td>4</td>\n",
       "      <td>Y</td>\n",
       "    </tr>\n",
       "    <tr>\n",
       "      <th>29877</th>\n",
       "      <td>49581</td>\n",
       "      <td>26FEB2014</td>\n",
       "      <td>SCH</td>\n",
       "      <td>M</td>\n",
       "      <td>36</td>\n",
       "      <td>N</td>\n",
       "      <td>N</td>\n",
       "      <td>0</td>\n",
       "      <td>0</td>\n",
       "      <td>-1.777263</td>\n",
       "      <td>4</td>\n",
       "      <td>60</td>\n",
       "      <td>2</td>\n",
       "      <td>2</td>\n",
       "      <td>50000</td>\n",
       "      <td>1</td>\n",
       "      <td>4</td>\n",
       "      <td>N</td>\n",
       "    </tr>\n",
       "    <tr>\n",
       "      <th>9934</th>\n",
       "      <td>68225</td>\n",
       "      <td>17MAR2014</td>\n",
       "      <td>GRD</td>\n",
       "      <td>F</td>\n",
       "      <td>26</td>\n",
       "      <td>N</td>\n",
       "      <td>N</td>\n",
       "      <td>0</td>\n",
       "      <td>1</td>\n",
       "      <td>-1.962796</td>\n",
       "      <td>1</td>\n",
       "      <td>80</td>\n",
       "      <td>2</td>\n",
       "      <td>3</td>\n",
       "      <td>47000</td>\n",
       "      <td>1</td>\n",
       "      <td>4</td>\n",
       "      <td>N</td>\n",
       "    </tr>\n",
       "    <tr>\n",
       "      <th>31474</th>\n",
       "      <td>10056</td>\n",
       "      <td>17JAN2014</td>\n",
       "      <td>GRD</td>\n",
       "      <td>M</td>\n",
       "      <td>27</td>\n",
       "      <td>N</td>\n",
       "      <td>N</td>\n",
       "      <td>0</td>\n",
       "      <td>1</td>\n",
       "      <td>-1.336236</td>\n",
       "      <td>1</td>\n",
       "      <td>80</td>\n",
       "      <td>2</td>\n",
       "      <td>3</td>\n",
       "      <td>79100</td>\n",
       "      <td>2</td>\n",
       "      <td>1</td>\n",
       "      <td>N</td>\n",
       "    </tr>\n",
       "    <tr>\n",
       "      <th>8389</th>\n",
       "      <td>34274</td>\n",
       "      <td>10FEB2014</td>\n",
       "      <td>SCH</td>\n",
       "      <td>M</td>\n",
       "      <td>41</td>\n",
       "      <td>Y</td>\n",
       "      <td>Y</td>\n",
       "      <td>0</td>\n",
       "      <td>1</td>\n",
       "      <td>-1.147580</td>\n",
       "      <td>2</td>\n",
       "      <td>50</td>\n",
       "      <td>2</td>\n",
       "      <td>3</td>\n",
       "      <td>40000</td>\n",
       "      <td>1</td>\n",
       "      <td>4</td>\n",
       "      <td>N</td>\n",
       "    </tr>\n",
       "    <tr>\n",
       "      <th>14146</th>\n",
       "      <td>91048</td>\n",
       "      <td>07APR2014</td>\n",
       "      <td>SCH</td>\n",
       "      <td>F</td>\n",
       "      <td>52</td>\n",
       "      <td>N</td>\n",
       "      <td>N</td>\n",
       "      <td>1</td>\n",
       "      <td>0</td>\n",
       "      <td>-1.164337</td>\n",
       "      <td>0</td>\n",
       "      <td>50</td>\n",
       "      <td>2</td>\n",
       "      <td>3</td>\n",
       "      <td>30000</td>\n",
       "      <td>4</td>\n",
       "      <td>1</td>\n",
       "      <td>N</td>\n",
       "    </tr>\n",
       "    <tr>\n",
       "      <th>3556</th>\n",
       "      <td>36516</td>\n",
       "      <td>12FEB2014</td>\n",
       "      <td>SCH</td>\n",
       "      <td>F</td>\n",
       "      <td>28</td>\n",
       "      <td>N</td>\n",
       "      <td>N</td>\n",
       "      <td>0</td>\n",
       "      <td>0</td>\n",
       "      <td>-2.659287</td>\n",
       "      <td>2</td>\n",
       "      <td>80</td>\n",
       "      <td>2</td>\n",
       "      <td>3</td>\n",
       "      <td>25000</td>\n",
       "      <td>1</td>\n",
       "      <td>3</td>\n",
       "      <td>N</td>\n",
       "    </tr>\n",
       "    <tr>\n",
       "      <th>13065</th>\n",
       "      <td>41721</td>\n",
       "      <td>18FEB2014</td>\n",
       "      <td>SCH</td>\n",
       "      <td>F</td>\n",
       "      <td>38</td>\n",
       "      <td>N</td>\n",
       "      <td>N</td>\n",
       "      <td>1</td>\n",
       "      <td>0</td>\n",
       "      <td>-1.170816</td>\n",
       "      <td>2</td>\n",
       "      <td>40</td>\n",
       "      <td>1</td>\n",
       "      <td>2</td>\n",
       "      <td>60000</td>\n",
       "      <td>4</td>\n",
       "      <td>1</td>\n",
       "      <td>N</td>\n",
       "    </tr>\n",
       "    <tr>\n",
       "      <th>7762</th>\n",
       "      <td>35143</td>\n",
       "      <td>11FEB2014</td>\n",
       "      <td>UGR</td>\n",
       "      <td>M</td>\n",
       "      <td>28</td>\n",
       "      <td>N</td>\n",
       "      <td>N</td>\n",
       "      <td>0</td>\n",
       "      <td>0</td>\n",
       "      <td>-0.620681</td>\n",
       "      <td>2</td>\n",
       "      <td>60</td>\n",
       "      <td>1</td>\n",
       "      <td>2</td>\n",
       "      <td>210000</td>\n",
       "      <td>1</td>\n",
       "      <td>3</td>\n",
       "      <td>N</td>\n",
       "    </tr>\n",
       "  </tbody>\n",
       "</table>\n",
       "</div>"
      ],
      "text/plain": [
       "       client_id   app_date education sex  age car car_type  decline_app_cnt  \\\n",
       "16992      51547  28FEB2014       SCH   F   33   Y        Y                0   \n",
       "23191      52709  01MAR2014       GRD   M   28   N        N                0   \n",
       "29877      49581  26FEB2014       SCH   M   36   N        N                0   \n",
       "9934       68225  17MAR2014       GRD   F   26   N        N                0   \n",
       "31474      10056  17JAN2014       GRD   M   27   N        N                0   \n",
       "8389       34274  10FEB2014       SCH   M   41   Y        Y                0   \n",
       "14146      91048  07APR2014       SCH   F   52   N        N                1   \n",
       "3556       36516  12FEB2014       SCH   F   28   N        N                0   \n",
       "13065      41721  18FEB2014       SCH   F   38   N        N                1   \n",
       "7762       35143  11FEB2014       UGR   M   28   N        N                0   \n",
       "\n",
       "       good_work  score_bki  bki_request_cnt  region_rating  home_address  \\\n",
       "16992          0  -1.663588                1             50             2   \n",
       "23191          0  -1.131629                1             50             1   \n",
       "29877          0  -1.777263                4             60             2   \n",
       "9934           1  -1.962796                1             80             2   \n",
       "31474          1  -1.336236                1             80             2   \n",
       "8389           1  -1.147580                2             50             2   \n",
       "14146          0  -1.164337                0             50             2   \n",
       "3556           0  -2.659287                2             80             2   \n",
       "13065          0  -1.170816                2             40             1   \n",
       "7762           0  -0.620681                2             60             1   \n",
       "\n",
       "       work_address  income  sna  first_time foreign_passport  \n",
       "16992             3   35000    1           3                N  \n",
       "23191             3   40000    1           4                Y  \n",
       "29877             2   50000    1           4                N  \n",
       "9934              3   47000    1           4                N  \n",
       "31474             3   79100    2           1                N  \n",
       "8389              3   40000    1           4                N  \n",
       "14146             3   30000    4           1                N  \n",
       "3556              3   25000    1           3                N  \n",
       "13065             2   60000    4           1                N  \n",
       "7762              2  210000    1           3                N  "
      ]
     },
     "metadata": {},
     "output_type": "display_data"
    }
   ],
   "source": [
    "print(f'В тестовом датасете test {test.shape[0]} строк и {test.shape[1]} признаков.')\n",
    "display(test.sample(10))"
   ]
  },
  {
   "cell_type": "markdown",
   "metadata": {
    "papermill": {
     "duration": 0.039949,
     "end_time": "2021-04-11T17:19:06.117484",
     "exception": false,
     "start_time": "2021-04-11T17:19:06.077535",
     "status": "completed"
    },
    "tags": []
   },
   "source": [
    "В тестовом датасете на 1 признак меньше - это результирующий default, структура данных сохранена, пропуски есть только в поле education."
   ]
  },
  {
   "cell_type": "markdown",
   "metadata": {
    "papermill": {
     "duration": 0.04171,
     "end_time": "2021-04-11T17:19:06.198498",
     "exception": false,
     "start_time": "2021-04-11T17:19:06.156788",
     "status": "completed"
    },
    "tags": []
   },
   "source": [
    "**ОБРАБОТКА ДАННЫХ**"
   ]
  },
  {
   "cell_type": "code",
   "execution_count": 11,
   "metadata": {
    "execution": {
     "iopub.execute_input": "2021-04-11T17:19:06.281664Z",
     "iopub.status.busy": "2021-04-11T17:19:06.281061Z",
     "iopub.status.idle": "2021-04-11T17:19:06.342003Z",
     "shell.execute_reply": "2021-04-11T17:19:06.341468Z"
    },
    "papermill": {
     "duration": 0.104932,
     "end_time": "2021-04-11T17:19:06.342145",
     "exception": false,
     "start_time": "2021-04-11T17:19:06.237213",
     "status": "completed"
    },
    "tags": []
   },
   "outputs": [],
   "source": [
    "# объединим датасеты в один общий.\n",
    "# для этого введем признак принадлежности к тестовому датасету test_df\n",
    "test['test_df'] = 1\n",
    "train['test_df'] = 0\n",
    "# в тестовый датасет введем признак defualt, заполним его 0\n",
    "test['default'] = 0\n",
    "# объединим обновленные датасеты\n",
    "data = test.append(train).reset_index(drop=True) "
   ]
  },
  {
   "cell_type": "code",
   "execution_count": 12,
   "metadata": {
    "execution": {
     "iopub.execute_input": "2021-04-11T17:19:06.423552Z",
     "iopub.status.busy": "2021-04-11T17:19:06.422989Z",
     "iopub.status.idle": "2021-04-11T17:19:06.449095Z",
     "shell.execute_reply": "2021-04-11T17:19:06.448592Z"
    },
    "papermill": {
     "duration": 0.067809,
     "end_time": "2021-04-11T17:19:06.449225",
     "exception": false,
     "start_time": "2021-04-11T17:19:06.381416",
     "status": "completed"
    },
    "tags": []
   },
   "outputs": [
    {
     "data": {
      "text/html": [
       "<div>\n",
       "<style scoped>\n",
       "    .dataframe tbody tr th:only-of-type {\n",
       "        vertical-align: middle;\n",
       "    }\n",
       "\n",
       "    .dataframe tbody tr th {\n",
       "        vertical-align: top;\n",
       "    }\n",
       "\n",
       "    .dataframe thead th {\n",
       "        text-align: right;\n",
       "    }\n",
       "</style>\n",
       "<table border=\"1\" class=\"dataframe\">\n",
       "  <thead>\n",
       "    <tr style=\"text-align: right;\">\n",
       "      <th></th>\n",
       "      <th>client_id</th>\n",
       "      <th>app_date</th>\n",
       "      <th>education</th>\n",
       "      <th>sex</th>\n",
       "      <th>age</th>\n",
       "      <th>car</th>\n",
       "      <th>car_type</th>\n",
       "      <th>decline_app_cnt</th>\n",
       "      <th>good_work</th>\n",
       "      <th>score_bki</th>\n",
       "      <th>bki_request_cnt</th>\n",
       "      <th>region_rating</th>\n",
       "      <th>home_address</th>\n",
       "      <th>work_address</th>\n",
       "      <th>income</th>\n",
       "      <th>sna</th>\n",
       "      <th>first_time</th>\n",
       "      <th>foreign_passport</th>\n",
       "      <th>test_df</th>\n",
       "      <th>default</th>\n",
       "    </tr>\n",
       "  </thead>\n",
       "  <tbody>\n",
       "    <tr>\n",
       "      <th>0</th>\n",
       "      <td>74835</td>\n",
       "      <td>22MAR2014</td>\n",
       "      <td>GRD</td>\n",
       "      <td>M</td>\n",
       "      <td>29</td>\n",
       "      <td>Y</td>\n",
       "      <td>Y</td>\n",
       "      <td>0</td>\n",
       "      <td>0</td>\n",
       "      <td>-2.271884</td>\n",
       "      <td>3</td>\n",
       "      <td>50</td>\n",
       "      <td>1</td>\n",
       "      <td>2</td>\n",
       "      <td>50000</td>\n",
       "      <td>1</td>\n",
       "      <td>4</td>\n",
       "      <td>N</td>\n",
       "      <td>1</td>\n",
       "      <td>0</td>\n",
       "    </tr>\n",
       "    <tr>\n",
       "      <th>1</th>\n",
       "      <td>17527</td>\n",
       "      <td>24JAN2014</td>\n",
       "      <td>SCH</td>\n",
       "      <td>F</td>\n",
       "      <td>39</td>\n",
       "      <td>N</td>\n",
       "      <td>N</td>\n",
       "      <td>5</td>\n",
       "      <td>0</td>\n",
       "      <td>-1.504999</td>\n",
       "      <td>2</td>\n",
       "      <td>50</td>\n",
       "      <td>1</td>\n",
       "      <td>2</td>\n",
       "      <td>5000</td>\n",
       "      <td>4</td>\n",
       "      <td>3</td>\n",
       "      <td>N</td>\n",
       "      <td>1</td>\n",
       "      <td>0</td>\n",
       "    </tr>\n",
       "    <tr>\n",
       "      <th>2</th>\n",
       "      <td>75683</td>\n",
       "      <td>23MAR2014</td>\n",
       "      <td>UGR</td>\n",
       "      <td>M</td>\n",
       "      <td>50</td>\n",
       "      <td>Y</td>\n",
       "      <td>Y</td>\n",
       "      <td>0</td>\n",
       "      <td>0</td>\n",
       "      <td>-1.691339</td>\n",
       "      <td>1</td>\n",
       "      <td>50</td>\n",
       "      <td>1</td>\n",
       "      <td>2</td>\n",
       "      <td>30000</td>\n",
       "      <td>1</td>\n",
       "      <td>3</td>\n",
       "      <td>Y</td>\n",
       "      <td>1</td>\n",
       "      <td>0</td>\n",
       "    </tr>\n",
       "    <tr>\n",
       "      <th>3</th>\n",
       "      <td>26883</td>\n",
       "      <td>03FEB2014</td>\n",
       "      <td>SCH</td>\n",
       "      <td>M</td>\n",
       "      <td>56</td>\n",
       "      <td>N</td>\n",
       "      <td>N</td>\n",
       "      <td>0</td>\n",
       "      <td>0</td>\n",
       "      <td>-2.374182</td>\n",
       "      <td>1</td>\n",
       "      <td>40</td>\n",
       "      <td>1</td>\n",
       "      <td>2</td>\n",
       "      <td>17000</td>\n",
       "      <td>1</td>\n",
       "      <td>3</td>\n",
       "      <td>N</td>\n",
       "      <td>1</td>\n",
       "      <td>0</td>\n",
       "    </tr>\n",
       "    <tr>\n",
       "      <th>4</th>\n",
       "      <td>28862</td>\n",
       "      <td>04FEB2014</td>\n",
       "      <td>GRD</td>\n",
       "      <td>F</td>\n",
       "      <td>38</td>\n",
       "      <td>N</td>\n",
       "      <td>N</td>\n",
       "      <td>0</td>\n",
       "      <td>0</td>\n",
       "      <td>-2.487502</td>\n",
       "      <td>0</td>\n",
       "      <td>80</td>\n",
       "      <td>2</td>\n",
       "      <td>3</td>\n",
       "      <td>120000</td>\n",
       "      <td>1</td>\n",
       "      <td>3</td>\n",
       "      <td>N</td>\n",
       "      <td>1</td>\n",
       "      <td>0</td>\n",
       "    </tr>\n",
       "    <tr>\n",
       "      <th>...</th>\n",
       "      <td>...</td>\n",
       "      <td>...</td>\n",
       "      <td>...</td>\n",
       "      <td>...</td>\n",
       "      <td>...</td>\n",
       "      <td>...</td>\n",
       "      <td>...</td>\n",
       "      <td>...</td>\n",
       "      <td>...</td>\n",
       "      <td>...</td>\n",
       "      <td>...</td>\n",
       "      <td>...</td>\n",
       "      <td>...</td>\n",
       "      <td>...</td>\n",
       "      <td>...</td>\n",
       "      <td>...</td>\n",
       "      <td>...</td>\n",
       "      <td>...</td>\n",
       "      <td>...</td>\n",
       "      <td>...</td>\n",
       "    </tr>\n",
       "    <tr>\n",
       "      <th>110143</th>\n",
       "      <td>54887</td>\n",
       "      <td>04MAR2014</td>\n",
       "      <td>GRD</td>\n",
       "      <td>F</td>\n",
       "      <td>45</td>\n",
       "      <td>N</td>\n",
       "      <td>N</td>\n",
       "      <td>0</td>\n",
       "      <td>0</td>\n",
       "      <td>-1.792064</td>\n",
       "      <td>3</td>\n",
       "      <td>50</td>\n",
       "      <td>1</td>\n",
       "      <td>2</td>\n",
       "      <td>17000</td>\n",
       "      <td>4</td>\n",
       "      <td>4</td>\n",
       "      <td>N</td>\n",
       "      <td>0</td>\n",
       "      <td>0</td>\n",
       "    </tr>\n",
       "    <tr>\n",
       "      <th>110144</th>\n",
       "      <td>76821</td>\n",
       "      <td>24MAR2014</td>\n",
       "      <td>SCH</td>\n",
       "      <td>M</td>\n",
       "      <td>41</td>\n",
       "      <td>Y</td>\n",
       "      <td>Y</td>\n",
       "      <td>0</td>\n",
       "      <td>0</td>\n",
       "      <td>-2.058029</td>\n",
       "      <td>1</td>\n",
       "      <td>50</td>\n",
       "      <td>2</td>\n",
       "      <td>2</td>\n",
       "      <td>70000</td>\n",
       "      <td>1</td>\n",
       "      <td>4</td>\n",
       "      <td>N</td>\n",
       "      <td>0</td>\n",
       "      <td>0</td>\n",
       "    </tr>\n",
       "    <tr>\n",
       "      <th>110145</th>\n",
       "      <td>103695</td>\n",
       "      <td>22APR2014</td>\n",
       "      <td>SCH</td>\n",
       "      <td>M</td>\n",
       "      <td>31</td>\n",
       "      <td>N</td>\n",
       "      <td>N</td>\n",
       "      <td>0</td>\n",
       "      <td>0</td>\n",
       "      <td>-1.512635</td>\n",
       "      <td>4</td>\n",
       "      <td>80</td>\n",
       "      <td>2</td>\n",
       "      <td>3</td>\n",
       "      <td>45000</td>\n",
       "      <td>2</td>\n",
       "      <td>2</td>\n",
       "      <td>N</td>\n",
       "      <td>0</td>\n",
       "      <td>0</td>\n",
       "    </tr>\n",
       "    <tr>\n",
       "      <th>110146</th>\n",
       "      <td>861</td>\n",
       "      <td>04JAN2014</td>\n",
       "      <td>SCH</td>\n",
       "      <td>F</td>\n",
       "      <td>29</td>\n",
       "      <td>N</td>\n",
       "      <td>N</td>\n",
       "      <td>0</td>\n",
       "      <td>1</td>\n",
       "      <td>-1.479334</td>\n",
       "      <td>3</td>\n",
       "      <td>50</td>\n",
       "      <td>1</td>\n",
       "      <td>3</td>\n",
       "      <td>13000</td>\n",
       "      <td>2</td>\n",
       "      <td>3</td>\n",
       "      <td>N</td>\n",
       "      <td>0</td>\n",
       "      <td>1</td>\n",
       "    </tr>\n",
       "    <tr>\n",
       "      <th>110147</th>\n",
       "      <td>15796</td>\n",
       "      <td>23JAN2014</td>\n",
       "      <td>GRD</td>\n",
       "      <td>M</td>\n",
       "      <td>34</td>\n",
       "      <td>N</td>\n",
       "      <td>N</td>\n",
       "      <td>0</td>\n",
       "      <td>0</td>\n",
       "      <td>-1.764711</td>\n",
       "      <td>2</td>\n",
       "      <td>50</td>\n",
       "      <td>2</td>\n",
       "      <td>3</td>\n",
       "      <td>25000</td>\n",
       "      <td>1</td>\n",
       "      <td>3</td>\n",
       "      <td>N</td>\n",
       "      <td>0</td>\n",
       "      <td>0</td>\n",
       "    </tr>\n",
       "  </tbody>\n",
       "</table>\n",
       "<p>110148 rows × 20 columns</p>\n",
       "</div>"
      ],
      "text/plain": [
       "        client_id   app_date education sex  age car car_type  decline_app_cnt  \\\n",
       "0           74835  22MAR2014       GRD   M   29   Y        Y                0   \n",
       "1           17527  24JAN2014       SCH   F   39   N        N                5   \n",
       "2           75683  23MAR2014       UGR   M   50   Y        Y                0   \n",
       "3           26883  03FEB2014       SCH   M   56   N        N                0   \n",
       "4           28862  04FEB2014       GRD   F   38   N        N                0   \n",
       "...           ...        ...       ...  ..  ...  ..      ...              ...   \n",
       "110143      54887  04MAR2014       GRD   F   45   N        N                0   \n",
       "110144      76821  24MAR2014       SCH   M   41   Y        Y                0   \n",
       "110145     103695  22APR2014       SCH   M   31   N        N                0   \n",
       "110146        861  04JAN2014       SCH   F   29   N        N                0   \n",
       "110147      15796  23JAN2014       GRD   M   34   N        N                0   \n",
       "\n",
       "        good_work  score_bki  bki_request_cnt  region_rating  home_address  \\\n",
       "0               0  -2.271884                3             50             1   \n",
       "1               0  -1.504999                2             50             1   \n",
       "2               0  -1.691339                1             50             1   \n",
       "3               0  -2.374182                1             40             1   \n",
       "4               0  -2.487502                0             80             2   \n",
       "...           ...        ...              ...            ...           ...   \n",
       "110143          0  -1.792064                3             50             1   \n",
       "110144          0  -2.058029                1             50             2   \n",
       "110145          0  -1.512635                4             80             2   \n",
       "110146          1  -1.479334                3             50             1   \n",
       "110147          0  -1.764711                2             50             2   \n",
       "\n",
       "        work_address  income  sna  first_time foreign_passport  test_df  \\\n",
       "0                  2   50000    1           4                N        1   \n",
       "1                  2    5000    4           3                N        1   \n",
       "2                  2   30000    1           3                Y        1   \n",
       "3                  2   17000    1           3                N        1   \n",
       "4                  3  120000    1           3                N        1   \n",
       "...              ...     ...  ...         ...              ...      ...   \n",
       "110143             2   17000    4           4                N        0   \n",
       "110144             2   70000    1           4                N        0   \n",
       "110145             3   45000    2           2                N        0   \n",
       "110146             3   13000    2           3                N        0   \n",
       "110147             3   25000    1           3                N        0   \n",
       "\n",
       "        default  \n",
       "0             0  \n",
       "1             0  \n",
       "2             0  \n",
       "3             0  \n",
       "4             0  \n",
       "...         ...  \n",
       "110143        0  \n",
       "110144        0  \n",
       "110145        0  \n",
       "110146        1  \n",
       "110147        0  \n",
       "\n",
       "[110148 rows x 20 columns]"
      ]
     },
     "metadata": {},
     "output_type": "display_data"
    }
   ],
   "source": [
    "display(data)"
   ]
  },
  {
   "cell_type": "code",
   "execution_count": 13,
   "metadata": {
    "execution": {
     "iopub.execute_input": "2021-04-11T17:19:06.533414Z",
     "iopub.status.busy": "2021-04-11T17:19:06.532825Z",
     "iopub.status.idle": "2021-04-11T17:19:06.578484Z",
     "shell.execute_reply": "2021-04-11T17:19:06.579119Z"
    },
    "papermill": {
     "duration": 0.089863,
     "end_time": "2021-04-11T17:19:06.579336",
     "exception": false,
     "start_time": "2021-04-11T17:19:06.489473",
     "status": "completed"
    },
    "tags": []
   },
   "outputs": [
    {
     "name": "stdout",
     "output_type": "stream",
     "text": [
      "<class 'pandas.core.frame.DataFrame'>\n",
      "RangeIndex: 110148 entries, 0 to 110147\n",
      "Data columns (total 20 columns):\n",
      " #   Column            Non-Null Count   Dtype  \n",
      "---  ------            --------------   -----  \n",
      " 0   client_id         110148 non-null  int64  \n",
      " 1   app_date          110148 non-null  object \n",
      " 2   education         109670 non-null  object \n",
      " 3   sex               110148 non-null  object \n",
      " 4   age               110148 non-null  int64  \n",
      " 5   car               110148 non-null  object \n",
      " 6   car_type          110148 non-null  object \n",
      " 7   decline_app_cnt   110148 non-null  int64  \n",
      " 8   good_work         110148 non-null  int64  \n",
      " 9   score_bki         110148 non-null  float64\n",
      " 10  bki_request_cnt   110148 non-null  int64  \n",
      " 11  region_rating     110148 non-null  int64  \n",
      " 12  home_address      110148 non-null  int64  \n",
      " 13  work_address      110148 non-null  int64  \n",
      " 14  income            110148 non-null  int64  \n",
      " 15  sna               110148 non-null  int64  \n",
      " 16  first_time        110148 non-null  int64  \n",
      " 17  foreign_passport  110148 non-null  object \n",
      " 18  test_df           110148 non-null  int64  \n",
      " 19  default           110148 non-null  int64  \n",
      "dtypes: float64(1), int64(13), object(6)\n",
      "memory usage: 16.8+ MB\n"
     ]
    },
    {
     "data": {
      "text/plain": [
       "None"
      ]
     },
     "metadata": {},
     "output_type": "display_data"
    }
   ],
   "source": [
    "display(data.info())"
   ]
  },
  {
   "cell_type": "markdown",
   "metadata": {
    "papermill": {
     "duration": 0.040533,
     "end_time": "2021-04-11T17:19:06.662270",
     "exception": false,
     "start_time": "2021-04-11T17:19:06.621737",
     "status": "completed"
    },
    "tags": []
   },
   "source": [
    "В итоговом датасете 20 признаков, 14 из которых определены как числовые, а 6 - как строковые.\n",
    "Целевым признаком является default - он является бинарным и должен принимать только значения 0/1.\n",
    "Признак test_df является вспомогательным и служит только для выделения в общем датасете тестового. \n",
    "\n",
    "Приведём описание признаков: \n",
    "0. client_id - идентификатор клиента\n",
    "1. app_date - дата подачи заявки\n",
    "2. education - уровень образования\n",
    "3. sex - пол заемщика\n",
    "4. age - возраст заемщика\n",
    "5. car - флаг наличия автомобиля\n",
    "6. car_type - флаг автомобиля иномарки\n",
    "7. decline_app_cnt - количество отказанных прошлых заявок\n",
    "8. good_work - флаг наличия “хорошей” работы\n",
    "9. score_bki - скоринговый балл по данным из БКИ\n",
    "10. bki_request_cnt - количество запросов в БКИ\n",
    "11. region_rating - рейтинг региона\n",
    "12. home_address - категоризатор домашнего адреса\n",
    "13. work_address - категоризатор рабочего адреса\n",
    "14. income - доход заемщика\n",
    "15. sna - связь заемщика с клиентами банка\n",
    "16. first_time - давность наличия информации о заемщике\n",
    "17. foreign_passport - наличие загранпаспорта\n",
    "18. test_df - флаг принадлежности данных к тестовому датасету\n",
    "19. default - флаг дефолта по кредиту"
   ]
  },
  {
   "cell_type": "code",
   "execution_count": 14,
   "metadata": {
    "execution": {
     "iopub.execute_input": "2021-04-11T17:19:06.747041Z",
     "iopub.status.busy": "2021-04-11T17:19:06.746433Z",
     "iopub.status.idle": "2021-04-11T17:19:06.806105Z",
     "shell.execute_reply": "2021-04-11T17:19:06.805446Z"
    },
    "papermill": {
     "duration": 0.103121,
     "end_time": "2021-04-11T17:19:06.806286",
     "exception": false,
     "start_time": "2021-04-11T17:19:06.703165",
     "status": "completed"
    },
    "tags": []
   },
   "outputs": [
    {
     "name": "stdout",
     "output_type": "stream",
     "text": [
      "Признак sex принимает следующие значния:\n"
     ]
    },
    {
     "data": {
      "text/plain": [
       "F    61836\n",
       "M    48312\n",
       "Name: sex, dtype: int64"
      ]
     },
     "metadata": {},
     "output_type": "display_data"
    },
    {
     "name": "stdout",
     "output_type": "stream",
     "text": [
      "Признак car принимает следующие значния:\n"
     ]
    },
    {
     "data": {
      "text/plain": [
       "N    74290\n",
       "Y    35858\n",
       "Name: car, dtype: int64"
      ]
     },
     "metadata": {},
     "output_type": "display_data"
    },
    {
     "name": "stdout",
     "output_type": "stream",
     "text": [
      "Признак car_type принимает следующие значния:\n"
     ]
    },
    {
     "data": {
      "text/plain": [
       "N    89140\n",
       "Y    21008\n",
       "Name: car_type, dtype: int64"
      ]
     },
     "metadata": {},
     "output_type": "display_data"
    },
    {
     "name": "stdout",
     "output_type": "stream",
     "text": [
      "Признак good_work принимает следующие значния:\n"
     ]
    },
    {
     "data": {
      "text/plain": [
       "0    91917\n",
       "1    18231\n",
       "Name: good_work, dtype: int64"
      ]
     },
     "metadata": {},
     "output_type": "display_data"
    },
    {
     "name": "stdout",
     "output_type": "stream",
     "text": [
      "Признак foreign_passport принимает следующие значния:\n"
     ]
    },
    {
     "data": {
      "text/plain": [
       "N    93721\n",
       "Y    16427\n",
       "Name: foreign_passport, dtype: int64"
      ]
     },
     "metadata": {},
     "output_type": "display_data"
    }
   ],
   "source": [
    "# убедимся, что признаки sex, сar, car_type, good_work, foreign_passport являются бинарными\n",
    "bin_cols = ['sex', 'car', 'car_type', 'good_work', 'foreign_passport']\n",
    "for col in bin_cols:\n",
    "    print(f'Признак {col} принимает следующие значния:')\n",
    "    display(data[col].value_counts())"
   ]
  },
  {
   "cell_type": "code",
   "execution_count": 15,
   "metadata": {
    "execution": {
     "iopub.execute_input": "2021-04-11T17:19:06.919483Z",
     "iopub.status.busy": "2021-04-11T17:19:06.907173Z",
     "iopub.status.idle": "2021-04-11T17:19:06.991428Z",
     "shell.execute_reply": "2021-04-11T17:19:06.990831Z"
    },
    "papermill": {
     "duration": 0.141205,
     "end_time": "2021-04-11T17:19:06.991556",
     "exception": false,
     "start_time": "2021-04-11T17:19:06.850351",
     "status": "completed"
    },
    "tags": []
   },
   "outputs": [],
   "source": [
    "# преобразуем символьные бинарные признаки в числовые\n",
    "bin_cols.remove('good_work')\n",
    "label_encoder = LabelEncoder()\n",
    "for col in bin_cols:\n",
    "    data[col] = label_encoder.fit_transform(data[col])"
   ]
  },
  {
   "cell_type": "code",
   "execution_count": 16,
   "metadata": {
    "execution": {
     "iopub.execute_input": "2021-04-11T17:19:07.101264Z",
     "iopub.status.busy": "2021-04-11T17:19:07.086813Z",
     "iopub.status.idle": "2021-04-11T17:19:07.106477Z",
     "shell.execute_reply": "2021-04-11T17:19:07.105966Z"
    },
    "papermill": {
     "duration": 0.071398,
     "end_time": "2021-04-11T17:19:07.106625",
     "exception": false,
     "start_time": "2021-04-11T17:19:07.035227",
     "status": "completed"
    },
    "tags": []
   },
   "outputs": [
    {
     "data": {
      "text/html": [
       "<div>\n",
       "<style scoped>\n",
       "    .dataframe tbody tr th:only-of-type {\n",
       "        vertical-align: middle;\n",
       "    }\n",
       "\n",
       "    .dataframe tbody tr th {\n",
       "        vertical-align: top;\n",
       "    }\n",
       "\n",
       "    .dataframe thead th {\n",
       "        text-align: right;\n",
       "    }\n",
       "</style>\n",
       "<table border=\"1\" class=\"dataframe\">\n",
       "  <thead>\n",
       "    <tr style=\"text-align: right;\">\n",
       "      <th></th>\n",
       "      <th>client_id</th>\n",
       "      <th>app_date</th>\n",
       "      <th>education</th>\n",
       "      <th>sex</th>\n",
       "      <th>age</th>\n",
       "      <th>car</th>\n",
       "      <th>car_type</th>\n",
       "      <th>decline_app_cnt</th>\n",
       "      <th>good_work</th>\n",
       "      <th>score_bki</th>\n",
       "      <th>bki_request_cnt</th>\n",
       "      <th>region_rating</th>\n",
       "      <th>home_address</th>\n",
       "      <th>work_address</th>\n",
       "      <th>income</th>\n",
       "      <th>sna</th>\n",
       "      <th>first_time</th>\n",
       "      <th>foreign_passport</th>\n",
       "      <th>test_df</th>\n",
       "      <th>default</th>\n",
       "    </tr>\n",
       "  </thead>\n",
       "  <tbody>\n",
       "    <tr>\n",
       "      <th>0</th>\n",
       "      <td>74835</td>\n",
       "      <td>22MAR2014</td>\n",
       "      <td>GRD</td>\n",
       "      <td>1</td>\n",
       "      <td>29</td>\n",
       "      <td>1</td>\n",
       "      <td>1</td>\n",
       "      <td>0</td>\n",
       "      <td>0</td>\n",
       "      <td>-2.271884</td>\n",
       "      <td>3</td>\n",
       "      <td>50</td>\n",
       "      <td>1</td>\n",
       "      <td>2</td>\n",
       "      <td>50000</td>\n",
       "      <td>1</td>\n",
       "      <td>4</td>\n",
       "      <td>0</td>\n",
       "      <td>1</td>\n",
       "      <td>0</td>\n",
       "    </tr>\n",
       "    <tr>\n",
       "      <th>1</th>\n",
       "      <td>17527</td>\n",
       "      <td>24JAN2014</td>\n",
       "      <td>SCH</td>\n",
       "      <td>0</td>\n",
       "      <td>39</td>\n",
       "      <td>0</td>\n",
       "      <td>0</td>\n",
       "      <td>5</td>\n",
       "      <td>0</td>\n",
       "      <td>-1.504999</td>\n",
       "      <td>2</td>\n",
       "      <td>50</td>\n",
       "      <td>1</td>\n",
       "      <td>2</td>\n",
       "      <td>5000</td>\n",
       "      <td>4</td>\n",
       "      <td>3</td>\n",
       "      <td>0</td>\n",
       "      <td>1</td>\n",
       "      <td>0</td>\n",
       "    </tr>\n",
       "    <tr>\n",
       "      <th>2</th>\n",
       "      <td>75683</td>\n",
       "      <td>23MAR2014</td>\n",
       "      <td>UGR</td>\n",
       "      <td>1</td>\n",
       "      <td>50</td>\n",
       "      <td>1</td>\n",
       "      <td>1</td>\n",
       "      <td>0</td>\n",
       "      <td>0</td>\n",
       "      <td>-1.691339</td>\n",
       "      <td>1</td>\n",
       "      <td>50</td>\n",
       "      <td>1</td>\n",
       "      <td>2</td>\n",
       "      <td>30000</td>\n",
       "      <td>1</td>\n",
       "      <td>3</td>\n",
       "      <td>1</td>\n",
       "      <td>1</td>\n",
       "      <td>0</td>\n",
       "    </tr>\n",
       "    <tr>\n",
       "      <th>3</th>\n",
       "      <td>26883</td>\n",
       "      <td>03FEB2014</td>\n",
       "      <td>SCH</td>\n",
       "      <td>1</td>\n",
       "      <td>56</td>\n",
       "      <td>0</td>\n",
       "      <td>0</td>\n",
       "      <td>0</td>\n",
       "      <td>0</td>\n",
       "      <td>-2.374182</td>\n",
       "      <td>1</td>\n",
       "      <td>40</td>\n",
       "      <td>1</td>\n",
       "      <td>2</td>\n",
       "      <td>17000</td>\n",
       "      <td>1</td>\n",
       "      <td>3</td>\n",
       "      <td>0</td>\n",
       "      <td>1</td>\n",
       "      <td>0</td>\n",
       "    </tr>\n",
       "    <tr>\n",
       "      <th>4</th>\n",
       "      <td>28862</td>\n",
       "      <td>04FEB2014</td>\n",
       "      <td>GRD</td>\n",
       "      <td>0</td>\n",
       "      <td>38</td>\n",
       "      <td>0</td>\n",
       "      <td>0</td>\n",
       "      <td>0</td>\n",
       "      <td>0</td>\n",
       "      <td>-2.487502</td>\n",
       "      <td>0</td>\n",
       "      <td>80</td>\n",
       "      <td>2</td>\n",
       "      <td>3</td>\n",
       "      <td>120000</td>\n",
       "      <td>1</td>\n",
       "      <td>3</td>\n",
       "      <td>0</td>\n",
       "      <td>1</td>\n",
       "      <td>0</td>\n",
       "    </tr>\n",
       "    <tr>\n",
       "      <th>...</th>\n",
       "      <td>...</td>\n",
       "      <td>...</td>\n",
       "      <td>...</td>\n",
       "      <td>...</td>\n",
       "      <td>...</td>\n",
       "      <td>...</td>\n",
       "      <td>...</td>\n",
       "      <td>...</td>\n",
       "      <td>...</td>\n",
       "      <td>...</td>\n",
       "      <td>...</td>\n",
       "      <td>...</td>\n",
       "      <td>...</td>\n",
       "      <td>...</td>\n",
       "      <td>...</td>\n",
       "      <td>...</td>\n",
       "      <td>...</td>\n",
       "      <td>...</td>\n",
       "      <td>...</td>\n",
       "      <td>...</td>\n",
       "    </tr>\n",
       "    <tr>\n",
       "      <th>110143</th>\n",
       "      <td>54887</td>\n",
       "      <td>04MAR2014</td>\n",
       "      <td>GRD</td>\n",
       "      <td>0</td>\n",
       "      <td>45</td>\n",
       "      <td>0</td>\n",
       "      <td>0</td>\n",
       "      <td>0</td>\n",
       "      <td>0</td>\n",
       "      <td>-1.792064</td>\n",
       "      <td>3</td>\n",
       "      <td>50</td>\n",
       "      <td>1</td>\n",
       "      <td>2</td>\n",
       "      <td>17000</td>\n",
       "      <td>4</td>\n",
       "      <td>4</td>\n",
       "      <td>0</td>\n",
       "      <td>0</td>\n",
       "      <td>0</td>\n",
       "    </tr>\n",
       "    <tr>\n",
       "      <th>110144</th>\n",
       "      <td>76821</td>\n",
       "      <td>24MAR2014</td>\n",
       "      <td>SCH</td>\n",
       "      <td>1</td>\n",
       "      <td>41</td>\n",
       "      <td>1</td>\n",
       "      <td>1</td>\n",
       "      <td>0</td>\n",
       "      <td>0</td>\n",
       "      <td>-2.058029</td>\n",
       "      <td>1</td>\n",
       "      <td>50</td>\n",
       "      <td>2</td>\n",
       "      <td>2</td>\n",
       "      <td>70000</td>\n",
       "      <td>1</td>\n",
       "      <td>4</td>\n",
       "      <td>0</td>\n",
       "      <td>0</td>\n",
       "      <td>0</td>\n",
       "    </tr>\n",
       "    <tr>\n",
       "      <th>110145</th>\n",
       "      <td>103695</td>\n",
       "      <td>22APR2014</td>\n",
       "      <td>SCH</td>\n",
       "      <td>1</td>\n",
       "      <td>31</td>\n",
       "      <td>0</td>\n",
       "      <td>0</td>\n",
       "      <td>0</td>\n",
       "      <td>0</td>\n",
       "      <td>-1.512635</td>\n",
       "      <td>4</td>\n",
       "      <td>80</td>\n",
       "      <td>2</td>\n",
       "      <td>3</td>\n",
       "      <td>45000</td>\n",
       "      <td>2</td>\n",
       "      <td>2</td>\n",
       "      <td>0</td>\n",
       "      <td>0</td>\n",
       "      <td>0</td>\n",
       "    </tr>\n",
       "    <tr>\n",
       "      <th>110146</th>\n",
       "      <td>861</td>\n",
       "      <td>04JAN2014</td>\n",
       "      <td>SCH</td>\n",
       "      <td>0</td>\n",
       "      <td>29</td>\n",
       "      <td>0</td>\n",
       "      <td>0</td>\n",
       "      <td>0</td>\n",
       "      <td>1</td>\n",
       "      <td>-1.479334</td>\n",
       "      <td>3</td>\n",
       "      <td>50</td>\n",
       "      <td>1</td>\n",
       "      <td>3</td>\n",
       "      <td>13000</td>\n",
       "      <td>2</td>\n",
       "      <td>3</td>\n",
       "      <td>0</td>\n",
       "      <td>0</td>\n",
       "      <td>1</td>\n",
       "    </tr>\n",
       "    <tr>\n",
       "      <th>110147</th>\n",
       "      <td>15796</td>\n",
       "      <td>23JAN2014</td>\n",
       "      <td>GRD</td>\n",
       "      <td>1</td>\n",
       "      <td>34</td>\n",
       "      <td>0</td>\n",
       "      <td>0</td>\n",
       "      <td>0</td>\n",
       "      <td>0</td>\n",
       "      <td>-1.764711</td>\n",
       "      <td>2</td>\n",
       "      <td>50</td>\n",
       "      <td>2</td>\n",
       "      <td>3</td>\n",
       "      <td>25000</td>\n",
       "      <td>1</td>\n",
       "      <td>3</td>\n",
       "      <td>0</td>\n",
       "      <td>0</td>\n",
       "      <td>0</td>\n",
       "    </tr>\n",
       "  </tbody>\n",
       "</table>\n",
       "<p>110148 rows × 20 columns</p>\n",
       "</div>"
      ],
      "text/plain": [
       "        client_id   app_date education  sex  age  car  car_type  \\\n",
       "0           74835  22MAR2014       GRD    1   29    1         1   \n",
       "1           17527  24JAN2014       SCH    0   39    0         0   \n",
       "2           75683  23MAR2014       UGR    1   50    1         1   \n",
       "3           26883  03FEB2014       SCH    1   56    0         0   \n",
       "4           28862  04FEB2014       GRD    0   38    0         0   \n",
       "...           ...        ...       ...  ...  ...  ...       ...   \n",
       "110143      54887  04MAR2014       GRD    0   45    0         0   \n",
       "110144      76821  24MAR2014       SCH    1   41    1         1   \n",
       "110145     103695  22APR2014       SCH    1   31    0         0   \n",
       "110146        861  04JAN2014       SCH    0   29    0         0   \n",
       "110147      15796  23JAN2014       GRD    1   34    0         0   \n",
       "\n",
       "        decline_app_cnt  good_work  score_bki  bki_request_cnt  region_rating  \\\n",
       "0                     0          0  -2.271884                3             50   \n",
       "1                     5          0  -1.504999                2             50   \n",
       "2                     0          0  -1.691339                1             50   \n",
       "3                     0          0  -2.374182                1             40   \n",
       "4                     0          0  -2.487502                0             80   \n",
       "...                 ...        ...        ...              ...            ...   \n",
       "110143                0          0  -1.792064                3             50   \n",
       "110144                0          0  -2.058029                1             50   \n",
       "110145                0          0  -1.512635                4             80   \n",
       "110146                0          1  -1.479334                3             50   \n",
       "110147                0          0  -1.764711                2             50   \n",
       "\n",
       "        home_address  work_address  income  sna  first_time  foreign_passport  \\\n",
       "0                  1             2   50000    1           4                 0   \n",
       "1                  1             2    5000    4           3                 0   \n",
       "2                  1             2   30000    1           3                 1   \n",
       "3                  1             2   17000    1           3                 0   \n",
       "4                  2             3  120000    1           3                 0   \n",
       "...              ...           ...     ...  ...         ...               ...   \n",
       "110143             1             2   17000    4           4                 0   \n",
       "110144             2             2   70000    1           4                 0   \n",
       "110145             2             3   45000    2           2                 0   \n",
       "110146             1             3   13000    2           3                 0   \n",
       "110147             2             3   25000    1           3                 0   \n",
       "\n",
       "        test_df  default  \n",
       "0             1        0  \n",
       "1             1        0  \n",
       "2             1        0  \n",
       "3             1        0  \n",
       "4             1        0  \n",
       "...         ...      ...  \n",
       "110143        0        0  \n",
       "110144        0        0  \n",
       "110145        0        0  \n",
       "110146        0        1  \n",
       "110147        0        0  \n",
       "\n",
       "[110148 rows x 20 columns]"
      ]
     },
     "metadata": {},
     "output_type": "display_data"
    }
   ],
   "source": [
    "display(data)"
   ]
  },
  {
   "cell_type": "code",
   "execution_count": 17,
   "metadata": {
    "execution": {
     "iopub.execute_input": "2021-04-11T17:19:07.215082Z",
     "iopub.status.busy": "2021-04-11T17:19:07.213354Z",
     "iopub.status.idle": "2021-04-11T17:19:07.348197Z",
     "shell.execute_reply": "2021-04-11T17:19:07.348591Z"
    },
    "papermill": {
     "duration": 0.196563,
     "end_time": "2021-04-11T17:19:07.348778",
     "exception": false,
     "start_time": "2021-04-11T17:19:07.152215",
     "status": "completed"
    },
    "tags": []
   },
   "outputs": [
    {
     "data": {
      "text/plain": [
       "SCH    57998\n",
       "GRD    34768\n",
       "UGR    14748\n",
       "PGR     1865\n",
       "ACD      291\n",
       "Name: education, dtype: int64"
      ]
     },
     "metadata": {},
     "output_type": "display_data"
    },
    {
     "data": {
      "image/png": "[encoded data removed]",
      "text/plain": [
       "<Figure size 432x288 with 1 Axes>"
      ]
     },
     "metadata": {
      "needs_background": "light"
     },
     "output_type": "display_data"
    }
   ],
   "source": [
    "# рассмотрим признак education\n",
    "display(data.education.value_counts())\n",
    "data.education.value_counts().plot(kind=\"bar\")\n",
    "plt.show()"
   ]
  },
  {
   "cell_type": "code",
   "execution_count": 18,
   "metadata": {
    "execution": {
     "iopub.execute_input": "2021-04-11T17:19:07.446823Z",
     "iopub.status.busy": "2021-04-11T17:19:07.446193Z",
     "iopub.status.idle": "2021-04-11T17:19:08.075228Z",
     "shell.execute_reply": "2021-04-11T17:19:08.075706Z"
    },
    "papermill": {
     "duration": 0.681634,
     "end_time": "2021-04-11T17:19:08.075873",
     "exception": false,
     "start_time": "2021-04-11T17:19:07.394239",
     "status": "completed"
    },
    "tags": []
   },
   "outputs": [],
   "source": [
    "# заполним пропуски в признаке education в зависимости от возраста, пола и наличия машины у человека\n",
    "# для этого создадим урезанный датасет из нужных признаков, чтобы упросить его обработку\n",
    "df_dict = data[['education', 'sex', 'age', 'car']]\n",
    "\n",
    "# создадим словарь, в котором ключу (возраст, пол, признак машины) будет соответствовать максимально встречающееся для такого набора параметров \n",
    "# значение образования,\n",
    "# если в заполненных данных какой-то ключ из всех возможных не встречается, то значение равно наиболее встречаемому типу обучения по всему \n",
    "# датасету - 'SCH'\n",
    "education_dict = {}\n",
    "ages = set(df_dict.age)\n",
    "for age_ in ages:\n",
    "    for sex_ in range(2):\n",
    "        for car_ in range(2):\n",
    "            dff = df_dict.loc[(df_dict.age == age_) & (df_dict.sex == sex_)\n",
    "                                                             & (df_dict.car == car_), 'education']\n",
    "            if dff.value_counts().empty:\n",
    "                education_dict[(age_, sex_, car_)] = 'SCH'\n",
    "                break\n",
    "            education_dict[(age_, sex_, car_)] = dff.value_counts().index[0]           "
   ]
  },
  {
   "cell_type": "code",
   "execution_count": 19,
   "metadata": {
    "execution": {
     "iopub.execute_input": "2021-04-11T17:19:08.169645Z",
     "iopub.status.busy": "2021-04-11T17:19:08.169034Z",
     "iopub.status.idle": "2021-04-11T17:19:08.829370Z",
     "shell.execute_reply": "2021-04-11T17:19:08.828859Z"
    },
    "papermill": {
     "duration": 0.708181,
     "end_time": "2021-04-11T17:19:08.829504",
     "exception": false,
     "start_time": "2021-04-11T17:19:08.121323",
     "status": "completed"
    },
    "tags": []
   },
   "outputs": [],
   "source": [
    "# определим индексы строк, с пропущенными данными в признаке education\n",
    "education_empty = list(data[data.education.isnull()].index)\n",
    "\n",
    "# заполним пропуски по словарю\n",
    "for ind in education_empty:\n",
    "    data.loc[ind, 'education'] = education_dict[(data.loc[ind, 'age']),(data.loc[ind, 'sex']), (data.loc[ind, 'car'])]"
   ]
  },
  {
   "cell_type": "code",
   "execution_count": 20,
   "metadata": {
    "execution": {
     "iopub.execute_input": "2021-04-11T17:19:08.928012Z",
     "iopub.status.busy": "2021-04-11T17:19:08.927177Z",
     "iopub.status.idle": "2021-04-11T17:19:08.946369Z",
     "shell.execute_reply": "2021-04-11T17:19:08.945896Z"
    },
    "papermill": {
     "duration": 0.069643,
     "end_time": "2021-04-11T17:19:08.946498",
     "exception": false,
     "start_time": "2021-04-11T17:19:08.876855",
     "status": "completed"
    },
    "tags": []
   },
   "outputs": [
    {
     "data": {
      "text/plain": [
       "client_id           0\n",
       "app_date            0\n",
       "education           0\n",
       "sex                 0\n",
       "age                 0\n",
       "car                 0\n",
       "car_type            0\n",
       "decline_app_cnt     0\n",
       "good_work           0\n",
       "score_bki           0\n",
       "bki_request_cnt     0\n",
       "region_rating       0\n",
       "home_address        0\n",
       "work_address        0\n",
       "income              0\n",
       "sna                 0\n",
       "first_time          0\n",
       "foreign_passport    0\n",
       "test_df             0\n",
       "default             0\n",
       "dtype: int64"
      ]
     },
     "metadata": {},
     "output_type": "display_data"
    }
   ],
   "source": [
    "# проверим все ли пропуски в датасете убраны\n",
    "display(data.isnull().sum())"
   ]
  },
  {
   "cell_type": "code",
   "execution_count": 21,
   "metadata": {
    "execution": {
     "iopub.execute_input": "2021-04-11T17:19:09.045303Z",
     "iopub.status.busy": "2021-04-11T17:19:09.044466Z",
     "iopub.status.idle": "2021-04-11T17:19:09.070933Z",
     "shell.execute_reply": "2021-04-11T17:19:09.070440Z"
    },
    "papermill": {
     "duration": 0.078093,
     "end_time": "2021-04-11T17:19:09.071064",
     "exception": false,
     "start_time": "2021-04-11T17:19:08.992971",
     "status": "completed"
    },
    "tags": []
   },
   "outputs": [
    {
     "name": "stdout",
     "output_type": "stream",
     "text": [
      "<class 'pandas.core.frame.DataFrame'>\n",
      "RangeIndex: 110148 entries, 0 to 110147\n",
      "Data columns (total 20 columns):\n",
      " #   Column            Non-Null Count   Dtype  \n",
      "---  ------            --------------   -----  \n",
      " 0   client_id         110148 non-null  int64  \n",
      " 1   app_date          110148 non-null  object \n",
      " 2   education         110148 non-null  object \n",
      " 3   sex               110148 non-null  int64  \n",
      " 4   age               110148 non-null  int64  \n",
      " 5   car               110148 non-null  int64  \n",
      " 6   car_type          110148 non-null  int64  \n",
      " 7   decline_app_cnt   110148 non-null  int64  \n",
      " 8   good_work         110148 non-null  int64  \n",
      " 9   score_bki         110148 non-null  float64\n",
      " 10  bki_request_cnt   110148 non-null  int64  \n",
      " 11  region_rating     110148 non-null  int64  \n",
      " 12  home_address      110148 non-null  int64  \n",
      " 13  work_address      110148 non-null  int64  \n",
      " 14  income            110148 non-null  int64  \n",
      " 15  sna               110148 non-null  int64  \n",
      " 16  first_time        110148 non-null  int64  \n",
      " 17  foreign_passport  110148 non-null  int64  \n",
      " 18  test_df           110148 non-null  int64  \n",
      " 19  default           110148 non-null  int64  \n",
      "dtypes: float64(1), int64(17), object(2)\n",
      "memory usage: 16.8+ MB\n"
     ]
    },
    {
     "data": {
      "text/plain": [
       "None"
      ]
     },
     "metadata": {},
     "output_type": "display_data"
    }
   ],
   "source": [
    "display(data.info())"
   ]
  },
  {
   "cell_type": "code",
   "execution_count": 22,
   "metadata": {
    "execution": {
     "iopub.execute_input": "2021-04-11T17:19:09.176522Z",
     "iopub.status.busy": "2021-04-11T17:19:09.170493Z",
     "iopub.status.idle": "2021-04-11T17:19:09.195649Z",
     "shell.execute_reply": "2021-04-11T17:19:09.195010Z"
    },
    "papermill": {
     "duration": 0.077491,
     "end_time": "2021-04-11T17:19:09.195791",
     "exception": false,
     "start_time": "2021-04-11T17:19:09.118300",
     "status": "completed"
    },
    "tags": []
   },
   "outputs": [],
   "source": [
    "# для удобства обработки выделим признак app_date в отдельный датасет\n",
    "df_date = pd.DataFrame(data['app_date'])\n",
    "# преобразуем данные признака app_date в формат datetime\n",
    "df_date['app_date'] = pd.to_datetime(df_date['app_date'], format=\"%d%b%Y\", errors='ignore')"
   ]
  },
  {
   "cell_type": "code",
   "execution_count": 23,
   "metadata": {
    "execution": {
     "iopub.execute_input": "2021-04-11T17:19:09.296105Z",
     "iopub.status.busy": "2021-04-11T17:19:09.295240Z",
     "iopub.status.idle": "2021-04-11T17:19:09.349982Z",
     "shell.execute_reply": "2021-04-11T17:19:09.349449Z"
    },
    "papermill": {
     "duration": 0.107028,
     "end_time": "2021-04-11T17:19:09.350126",
     "exception": false,
     "start_time": "2021-04-11T17:19:09.243098",
     "status": "completed"
    },
    "tags": []
   },
   "outputs": [],
   "source": [
    "# выделим день, месяц, год, день недели в отдельные признаки app_d, app_m, app_y, app_wd соответственно \n",
    "df_date['app_d'] = df_date['app_date'].dt.day\n",
    "df_date['app_m'] = df_date['app_date'].dt.month\n",
    "df_date['app_y'] = df_date['app_date'].dt.year\n",
    "df_date['app_wd'] = df_date['app_date'].dt.weekday"
   ]
  },
  {
   "cell_type": "code",
   "execution_count": 24,
   "metadata": {
    "execution": {
     "iopub.execute_input": "2021-04-11T17:19:09.449330Z",
     "iopub.status.busy": "2021-04-11T17:19:09.448428Z",
     "iopub.status.idle": "2021-04-11T17:19:09.455103Z",
     "shell.execute_reply": "2021-04-11T17:19:09.454638Z"
    },
    "papermill": {
     "duration": 0.058196,
     "end_time": "2021-04-11T17:19:09.455227",
     "exception": false,
     "start_time": "2021-04-11T17:19:09.397031",
     "status": "completed"
    },
    "tags": []
   },
   "outputs": [
    {
     "data": {
      "text/plain": [
       "2014    110148\n",
       "Name: app_y, dtype: int64"
      ]
     },
     "execution_count": 24,
     "metadata": {},
     "output_type": "execute_result"
    }
   ],
   "source": [
    "# рассмотрим варианты значения признака app_y\n",
    "df_date.app_y.value_counts()"
   ]
  },
  {
   "cell_type": "code",
   "execution_count": 25,
   "metadata": {
    "execution": {
     "iopub.execute_input": "2021-04-11T17:19:09.556027Z",
     "iopub.status.busy": "2021-04-11T17:19:09.555117Z",
     "iopub.status.idle": "2021-04-11T17:19:09.562178Z",
     "shell.execute_reply": "2021-04-11T17:19:09.561707Z"
    },
    "papermill": {
     "duration": 0.05984,
     "end_time": "2021-04-11T17:19:09.562311",
     "exception": false,
     "start_time": "2021-04-11T17:19:09.502471",
     "status": "completed"
    },
    "tags": []
   },
   "outputs": [],
   "source": [
    "# так как значение этого признака во всех строках одинаковое, то оно не имеет значения и его можно удалить\n",
    "df_date.drop(['app_y'], axis=1, inplace=True)\n",
    "# удалим также и исходный признак app_date\n",
    "df_date.drop(['app_date'], axis=1, inplace=True)"
   ]
  },
  {
   "cell_type": "code",
   "execution_count": 26,
   "metadata": {
    "execution": {
     "iopub.execute_input": "2021-04-11T17:19:09.664663Z",
     "iopub.status.busy": "2021-04-11T17:19:09.663514Z",
     "iopub.status.idle": "2021-04-11T17:19:09.672180Z",
     "shell.execute_reply": "2021-04-11T17:19:09.671732Z"
    },
    "papermill": {
     "duration": 0.061501,
     "end_time": "2021-04-11T17:19:09.672313",
     "exception": false,
     "start_time": "2021-04-11T17:19:09.610812",
     "status": "completed"
    },
    "tags": []
   },
   "outputs": [],
   "source": [
    "# добавим полученные данные в исходный датасет\n",
    "data = pd.concat([data, df_date], axis=1)"
   ]
  },
  {
   "cell_type": "code",
   "execution_count": 27,
   "metadata": {
    "execution": {
     "iopub.execute_input": "2021-04-11T17:19:09.773553Z",
     "iopub.status.busy": "2021-04-11T17:19:09.772117Z",
     "iopub.status.idle": "2021-04-11T17:19:09.796319Z",
     "shell.execute_reply": "2021-04-11T17:19:09.795854Z"
    },
    "papermill": {
     "duration": 0.076756,
     "end_time": "2021-04-11T17:19:09.796459",
     "exception": false,
     "start_time": "2021-04-11T17:19:09.719703",
     "status": "completed"
    },
    "tags": []
   },
   "outputs": [],
   "source": [
    "# удалим признак app_date из исходного датасета\n",
    "data.drop(['app_date'], axis=1, inplace=True)"
   ]
  },
  {
   "cell_type": "code",
   "execution_count": 28,
   "metadata": {
    "execution": {
     "iopub.execute_input": "2021-04-11T17:19:09.913094Z",
     "iopub.status.busy": "2021-04-11T17:19:09.912178Z",
     "iopub.status.idle": "2021-04-11T17:19:09.917434Z",
     "shell.execute_reply": "2021-04-11T17:19:09.916843Z"
    },
    "papermill": {
     "duration": 0.0728,
     "end_time": "2021-04-11T17:19:09.917573",
     "exception": false,
     "start_time": "2021-04-11T17:19:09.844773",
     "status": "completed"
    },
    "tags": []
   },
   "outputs": [
    {
     "data": {
      "text/html": [
       "<div>\n",
       "<style scoped>\n",
       "    .dataframe tbody tr th:only-of-type {\n",
       "        vertical-align: middle;\n",
       "    }\n",
       "\n",
       "    .dataframe tbody tr th {\n",
       "        vertical-align: top;\n",
       "    }\n",
       "\n",
       "    .dataframe thead th {\n",
       "        text-align: right;\n",
       "    }\n",
       "</style>\n",
       "<table border=\"1\" class=\"dataframe\">\n",
       "  <thead>\n",
       "    <tr style=\"text-align: right;\">\n",
       "      <th></th>\n",
       "      <th>client_id</th>\n",
       "      <th>education</th>\n",
       "      <th>sex</th>\n",
       "      <th>age</th>\n",
       "      <th>car</th>\n",
       "      <th>car_type</th>\n",
       "      <th>decline_app_cnt</th>\n",
       "      <th>good_work</th>\n",
       "      <th>score_bki</th>\n",
       "      <th>bki_request_cnt</th>\n",
       "      <th>region_rating</th>\n",
       "      <th>home_address</th>\n",
       "      <th>work_address</th>\n",
       "      <th>income</th>\n",
       "      <th>sna</th>\n",
       "      <th>first_time</th>\n",
       "      <th>foreign_passport</th>\n",
       "      <th>test_df</th>\n",
       "      <th>default</th>\n",
       "      <th>app_d</th>\n",
       "      <th>app_m</th>\n",
       "      <th>app_wd</th>\n",
       "    </tr>\n",
       "  </thead>\n",
       "  <tbody>\n",
       "    <tr>\n",
       "      <th>8031</th>\n",
       "      <td>20950</td>\n",
       "      <td>SCH</td>\n",
       "      <td>0</td>\n",
       "      <td>66</td>\n",
       "      <td>0</td>\n",
       "      <td>0</td>\n",
       "      <td>0</td>\n",
       "      <td>0</td>\n",
       "      <td>-2.020119</td>\n",
       "      <td>1</td>\n",
       "      <td>80</td>\n",
       "      <td>2</td>\n",
       "      <td>3</td>\n",
       "      <td>45000</td>\n",
       "      <td>1</td>\n",
       "      <td>4</td>\n",
       "      <td>0</td>\n",
       "      <td>1</td>\n",
       "      <td>0</td>\n",
       "      <td>28</td>\n",
       "      <td>1</td>\n",
       "      <td>1</td>\n",
       "    </tr>\n",
       "    <tr>\n",
       "      <th>108507</th>\n",
       "      <td>91749</td>\n",
       "      <td>UGR</td>\n",
       "      <td>1</td>\n",
       "      <td>31</td>\n",
       "      <td>0</td>\n",
       "      <td>0</td>\n",
       "      <td>0</td>\n",
       "      <td>0</td>\n",
       "      <td>-1.517422</td>\n",
       "      <td>2</td>\n",
       "      <td>40</td>\n",
       "      <td>2</td>\n",
       "      <td>1</td>\n",
       "      <td>43000</td>\n",
       "      <td>1</td>\n",
       "      <td>3</td>\n",
       "      <td>1</td>\n",
       "      <td>0</td>\n",
       "      <td>0</td>\n",
       "      <td>8</td>\n",
       "      <td>4</td>\n",
       "      <td>1</td>\n",
       "    </tr>\n",
       "    <tr>\n",
       "      <th>72719</th>\n",
       "      <td>76448</td>\n",
       "      <td>UGR</td>\n",
       "      <td>0</td>\n",
       "      <td>23</td>\n",
       "      <td>0</td>\n",
       "      <td>0</td>\n",
       "      <td>1</td>\n",
       "      <td>0</td>\n",
       "      <td>-2.243378</td>\n",
       "      <td>1</td>\n",
       "      <td>60</td>\n",
       "      <td>3</td>\n",
       "      <td>3</td>\n",
       "      <td>28000</td>\n",
       "      <td>1</td>\n",
       "      <td>3</td>\n",
       "      <td>0</td>\n",
       "      <td>0</td>\n",
       "      <td>0</td>\n",
       "      <td>24</td>\n",
       "      <td>3</td>\n",
       "      <td>0</td>\n",
       "    </tr>\n",
       "    <tr>\n",
       "      <th>51240</th>\n",
       "      <td>54975</td>\n",
       "      <td>SCH</td>\n",
       "      <td>0</td>\n",
       "      <td>36</td>\n",
       "      <td>0</td>\n",
       "      <td>0</td>\n",
       "      <td>0</td>\n",
       "      <td>0</td>\n",
       "      <td>-2.238887</td>\n",
       "      <td>2</td>\n",
       "      <td>50</td>\n",
       "      <td>1</td>\n",
       "      <td>2</td>\n",
       "      <td>30000</td>\n",
       "      <td>1</td>\n",
       "      <td>4</td>\n",
       "      <td>0</td>\n",
       "      <td>0</td>\n",
       "      <td>0</td>\n",
       "      <td>4</td>\n",
       "      <td>3</td>\n",
       "      <td>1</td>\n",
       "    </tr>\n",
       "    <tr>\n",
       "      <th>93153</th>\n",
       "      <td>24668</td>\n",
       "      <td>UGR</td>\n",
       "      <td>1</td>\n",
       "      <td>32</td>\n",
       "      <td>0</td>\n",
       "      <td>0</td>\n",
       "      <td>0</td>\n",
       "      <td>0</td>\n",
       "      <td>-0.707046</td>\n",
       "      <td>0</td>\n",
       "      <td>70</td>\n",
       "      <td>1</td>\n",
       "      <td>1</td>\n",
       "      <td>35000</td>\n",
       "      <td>1</td>\n",
       "      <td>3</td>\n",
       "      <td>0</td>\n",
       "      <td>0</td>\n",
       "      <td>0</td>\n",
       "      <td>31</td>\n",
       "      <td>1</td>\n",
       "      <td>4</td>\n",
       "    </tr>\n",
       "    <tr>\n",
       "      <th>103827</th>\n",
       "      <td>69444</td>\n",
       "      <td>SCH</td>\n",
       "      <td>0</td>\n",
       "      <td>21</td>\n",
       "      <td>0</td>\n",
       "      <td>0</td>\n",
       "      <td>1</td>\n",
       "      <td>0</td>\n",
       "      <td>-2.252791</td>\n",
       "      <td>0</td>\n",
       "      <td>60</td>\n",
       "      <td>2</td>\n",
       "      <td>3</td>\n",
       "      <td>20000</td>\n",
       "      <td>1</td>\n",
       "      <td>3</td>\n",
       "      <td>0</td>\n",
       "      <td>0</td>\n",
       "      <td>0</td>\n",
       "      <td>18</td>\n",
       "      <td>3</td>\n",
       "      <td>1</td>\n",
       "    </tr>\n",
       "    <tr>\n",
       "      <th>103858</th>\n",
       "      <td>12307</td>\n",
       "      <td>PGR</td>\n",
       "      <td>0</td>\n",
       "      <td>35</td>\n",
       "      <td>0</td>\n",
       "      <td>0</td>\n",
       "      <td>0</td>\n",
       "      <td>0</td>\n",
       "      <td>-1.928666</td>\n",
       "      <td>5</td>\n",
       "      <td>60</td>\n",
       "      <td>1</td>\n",
       "      <td>2</td>\n",
       "      <td>35000</td>\n",
       "      <td>1</td>\n",
       "      <td>3</td>\n",
       "      <td>0</td>\n",
       "      <td>0</td>\n",
       "      <td>0</td>\n",
       "      <td>20</td>\n",
       "      <td>1</td>\n",
       "      <td>0</td>\n",
       "    </tr>\n",
       "    <tr>\n",
       "      <th>83903</th>\n",
       "      <td>103113</td>\n",
       "      <td>SCH</td>\n",
       "      <td>0</td>\n",
       "      <td>44</td>\n",
       "      <td>0</td>\n",
       "      <td>0</td>\n",
       "      <td>0</td>\n",
       "      <td>0</td>\n",
       "      <td>-1.456282</td>\n",
       "      <td>0</td>\n",
       "      <td>70</td>\n",
       "      <td>2</td>\n",
       "      <td>3</td>\n",
       "      <td>27900</td>\n",
       "      <td>1</td>\n",
       "      <td>3</td>\n",
       "      <td>0</td>\n",
       "      <td>0</td>\n",
       "      <td>0</td>\n",
       "      <td>21</td>\n",
       "      <td>4</td>\n",
       "      <td>0</td>\n",
       "    </tr>\n",
       "    <tr>\n",
       "      <th>24075</th>\n",
       "      <td>24096</td>\n",
       "      <td>SCH</td>\n",
       "      <td>0</td>\n",
       "      <td>39</td>\n",
       "      <td>0</td>\n",
       "      <td>0</td>\n",
       "      <td>0</td>\n",
       "      <td>0</td>\n",
       "      <td>-2.266498</td>\n",
       "      <td>1</td>\n",
       "      <td>50</td>\n",
       "      <td>2</td>\n",
       "      <td>3</td>\n",
       "      <td>10000</td>\n",
       "      <td>2</td>\n",
       "      <td>3</td>\n",
       "      <td>0</td>\n",
       "      <td>1</td>\n",
       "      <td>0</td>\n",
       "      <td>31</td>\n",
       "      <td>1</td>\n",
       "      <td>4</td>\n",
       "    </tr>\n",
       "    <tr>\n",
       "      <th>73495</th>\n",
       "      <td>14332</td>\n",
       "      <td>SCH</td>\n",
       "      <td>1</td>\n",
       "      <td>38</td>\n",
       "      <td>0</td>\n",
       "      <td>0</td>\n",
       "      <td>0</td>\n",
       "      <td>1</td>\n",
       "      <td>-2.383566</td>\n",
       "      <td>1</td>\n",
       "      <td>60</td>\n",
       "      <td>2</td>\n",
       "      <td>3</td>\n",
       "      <td>50000</td>\n",
       "      <td>2</td>\n",
       "      <td>1</td>\n",
       "      <td>0</td>\n",
       "      <td>0</td>\n",
       "      <td>0</td>\n",
       "      <td>21</td>\n",
       "      <td>1</td>\n",
       "      <td>1</td>\n",
       "    </tr>\n",
       "  </tbody>\n",
       "</table>\n",
       "</div>"
      ],
      "text/plain": [
       "        client_id education  sex  age  car  car_type  decline_app_cnt  \\\n",
       "8031        20950       SCH    0   66    0         0                0   \n",
       "108507      91749       UGR    1   31    0         0                0   \n",
       "72719       76448       UGR    0   23    0         0                1   \n",
       "51240       54975       SCH    0   36    0         0                0   \n",
       "93153       24668       UGR    1   32    0         0                0   \n",
       "103827      69444       SCH    0   21    0         0                1   \n",
       "103858      12307       PGR    0   35    0         0                0   \n",
       "83903      103113       SCH    0   44    0         0                0   \n",
       "24075       24096       SCH    0   39    0         0                0   \n",
       "73495       14332       SCH    1   38    0         0                0   \n",
       "\n",
       "        good_work  score_bki  bki_request_cnt  region_rating  home_address  \\\n",
       "8031            0  -2.020119                1             80             2   \n",
       "108507          0  -1.517422                2             40             2   \n",
       "72719           0  -2.243378                1             60             3   \n",
       "51240           0  -2.238887                2             50             1   \n",
       "93153           0  -0.707046                0             70             1   \n",
       "103827          0  -2.252791                0             60             2   \n",
       "103858          0  -1.928666                5             60             1   \n",
       "83903           0  -1.456282                0             70             2   \n",
       "24075           0  -2.266498                1             50             2   \n",
       "73495           1  -2.383566                1             60             2   \n",
       "\n",
       "        work_address  income  sna  first_time  foreign_passport  test_df  \\\n",
       "8031               3   45000    1           4                 0        1   \n",
       "108507             1   43000    1           3                 1        0   \n",
       "72719              3   28000    1           3                 0        0   \n",
       "51240              2   30000    1           4                 0        0   \n",
       "93153              1   35000    1           3                 0        0   \n",
       "103827             3   20000    1           3                 0        0   \n",
       "103858             2   35000    1           3                 0        0   \n",
       "83903              3   27900    1           3                 0        0   \n",
       "24075              3   10000    2           3                 0        1   \n",
       "73495              3   50000    2           1                 0        0   \n",
       "\n",
       "        default  app_d  app_m  app_wd  \n",
       "8031          0     28      1       1  \n",
       "108507        0      8      4       1  \n",
       "72719         0     24      3       0  \n",
       "51240         0      4      3       1  \n",
       "93153         0     31      1       4  \n",
       "103827        0     18      3       1  \n",
       "103858        0     20      1       0  \n",
       "83903         0     21      4       0  \n",
       "24075         0     31      1       4  \n",
       "73495         0     21      1       1  "
      ]
     },
     "metadata": {},
     "output_type": "display_data"
    }
   ],
   "source": [
    "display(data.sample(10))"
   ]
  },
  {
   "cell_type": "code",
   "execution_count": 29,
   "metadata": {
    "execution": {
     "iopub.execute_input": "2021-04-11T17:19:10.025711Z",
     "iopub.status.busy": "2021-04-11T17:19:10.024845Z",
     "iopub.status.idle": "2021-04-11T17:19:10.049571Z",
     "shell.execute_reply": "2021-04-11T17:19:10.049027Z"
    },
    "papermill": {
     "duration": 0.08374,
     "end_time": "2021-04-11T17:19:10.049728",
     "exception": false,
     "start_time": "2021-04-11T17:19:09.965988",
     "status": "completed"
    },
    "tags": []
   },
   "outputs": [],
   "source": [
    "# с помощью метода .get_dummies преобразуем признак education\n",
    "education_dummies = pd.get_dummies(data['education'], prefix='education')\n",
    "cat_cols = list(education_dummies.columns)\n",
    "data = data.drop('education', axis=1).join(education_dummies)"
   ]
  },
  {
   "cell_type": "code",
   "execution_count": 30,
   "metadata": {
    "execution": {
     "iopub.execute_input": "2021-04-11T17:19:10.152276Z",
     "iopub.status.busy": "2021-04-11T17:19:10.151321Z",
     "iopub.status.idle": "2021-04-11T17:19:10.165499Z",
     "shell.execute_reply": "2021-04-11T17:19:10.164905Z"
    },
    "papermill": {
     "duration": 0.067151,
     "end_time": "2021-04-11T17:19:10.165643",
     "exception": false,
     "start_time": "2021-04-11T17:19:10.098492",
     "status": "completed"
    },
    "tags": []
   },
   "outputs": [
    {
     "data": {
      "text/plain": [
       "2049     1\n",
       "60104    1\n",
       "39622    1\n",
       "33477    1\n",
       "35524    1\n",
       "        ..\n",
       "68875    1\n",
       "66826    1\n",
       "72969    1\n",
       "70920    1\n",
       "2047     1\n",
       "Name: client_id, Length: 110148, dtype: int64"
      ]
     },
     "execution_count": 30,
     "metadata": {},
     "output_type": "execute_result"
    }
   ],
   "source": [
    "# рассмотрим признак client_id\n",
    "data.client_id.value_counts()"
   ]
  },
  {
   "cell_type": "code",
   "execution_count": 31,
   "metadata": {
    "execution": {
     "iopub.execute_input": "2021-04-11T17:19:10.270712Z",
     "iopub.status.busy": "2021-04-11T17:19:10.269004Z",
     "iopub.status.idle": "2021-04-11T17:19:10.282871Z",
     "shell.execute_reply": "2021-04-11T17:19:10.283279Z"
    },
    "papermill": {
     "duration": 0.068919,
     "end_time": "2021-04-11T17:19:10.283444",
     "exception": false,
     "start_time": "2021-04-11T17:19:10.214525",
     "status": "completed"
    },
    "tags": []
   },
   "outputs": [],
   "source": [
    "# очевидно, что признак client_id не содержит данных, влияющих на итоговый признак, так как является уникальным для каждой записи, удалим его\n",
    "data.drop(['client_id'], axis=1, inplace=True)"
   ]
  },
  {
   "cell_type": "code",
   "execution_count": 32,
   "metadata": {
    "execution": {
     "iopub.execute_input": "2021-04-11T17:19:10.386433Z",
     "iopub.status.busy": "2021-04-11T17:19:10.385323Z",
     "iopub.status.idle": "2021-04-11T17:19:10.437716Z",
     "shell.execute_reply": "2021-04-11T17:19:10.437214Z"
    },
    "papermill": {
     "duration": 0.105371,
     "end_time": "2021-04-11T17:19:10.437851",
     "exception": false,
     "start_time": "2021-04-11T17:19:10.332480",
     "status": "completed"
    },
    "tags": []
   },
   "outputs": [
    {
     "data": {
      "text/plain": [
       "sex                      2\n",
       "age                     52\n",
       "car                      2\n",
       "car_type                 2\n",
       "decline_app_cnt         24\n",
       "good_work                2\n",
       "score_bki           102618\n",
       "bki_request_cnt         40\n",
       "region_rating            7\n",
       "home_address             3\n",
       "work_address             3\n",
       "income                1207\n",
       "sna                      4\n",
       "first_time               4\n",
       "foreign_passport         2\n",
       "test_df                  2\n",
       "default                  2\n",
       "app_d                   31\n",
       "app_m                    4\n",
       "app_wd                   7\n",
       "education_ACD            2\n",
       "education_GRD            2\n",
       "education_PGR            2\n",
       "education_SCH            2\n",
       "education_UGR            2\n",
       "dtype: int64"
      ]
     },
     "execution_count": 32,
     "metadata": {},
     "output_type": "execute_result"
    }
   ],
   "source": [
    "# разобъём все получившиеся признаки на категориальные, бинарные, количественные, целевой и вспомогательный, исходя из количества возможных значений\n",
    "# и смысловой нагрузки\n",
    "data.nunique()"
   ]
  },
  {
   "cell_type": "code",
   "execution_count": 33,
   "metadata": {
    "execution": {
     "iopub.execute_input": "2021-04-11T17:19:10.543299Z",
     "iopub.status.busy": "2021-04-11T17:19:10.542715Z",
     "iopub.status.idle": "2021-04-11T17:19:10.546058Z",
     "shell.execute_reply": "2021-04-11T17:19:10.545211Z"
    },
    "papermill": {
     "duration": 0.058704,
     "end_time": "2021-04-11T17:19:10.546233",
     "exception": false,
     "start_time": "2021-04-11T17:19:10.487529",
     "status": "completed"
    },
    "tags": []
   },
   "outputs": [],
   "source": [
    "cat_cols = ['region_rating','home_address', 'work_address', 'sna', 'first_time','app_d', 'app_m', 'app_wd']\n",
    "bin_cols = ['sex', 'car', 'car_type', 'good_work', 'foreign_passport','education_ACD', 'education_GRD', 'education_PGR', 'education_SCH', \n",
    "            'education_UGR']\n",
    "num_cols = ['age', 'decline_app_cnt', 'score_bki', 'bki_request_cnt', 'income']\n",
    "goal_col = ['default']\n",
    "help_col = ['test_df']"
   ]
  },
  {
   "cell_type": "code",
   "execution_count": 34,
   "metadata": {
    "execution": {
     "iopub.execute_input": "2021-04-11T17:19:10.652409Z",
     "iopub.status.busy": "2021-04-11T17:19:10.651424Z",
     "iopub.status.idle": "2021-04-11T17:19:10.670547Z",
     "shell.execute_reply": "2021-04-11T17:19:10.671014Z"
    },
    "papermill": {
     "duration": 0.074264,
     "end_time": "2021-04-11T17:19:10.671185",
     "exception": false,
     "start_time": "2021-04-11T17:19:10.596921",
     "status": "completed"
    },
    "tags": []
   },
   "outputs": [
    {
     "name": "stdout",
     "output_type": "stream",
     "text": [
      "Значения признака region_rating:\n",
      "50    40981\n",
      "60    23999\n",
      "40    17947\n",
      "80    17170\n",
      "70     9304\n",
      "30      434\n",
      "20      313\n",
      "Name: region_rating, dtype: int64\n",
      "Значения признака home_address:\n",
      "2    59591\n",
      "1    48688\n",
      "3     1869\n",
      "Name: home_address, dtype: int64\n",
      "Значения признака work_address:\n",
      "3    67113\n",
      "2    30761\n",
      "1    12274\n",
      "Name: work_address, dtype: int64\n",
      "Значения признака sna:\n",
      "1    70681\n",
      "4    17481\n",
      "2    15832\n",
      "3     6154\n",
      "Name: sna, dtype: int64\n",
      "Значения признака first_time:\n",
      "3    46588\n",
      "4    28017\n",
      "1    18296\n",
      "2    17247\n",
      "Name: first_time, dtype: int64\n",
      "Значения признака app_d:\n",
      "17    4454\n",
      "28    4338\n",
      "18    4321\n",
      "21    4230\n",
      "11    4037\n",
      "24    4035\n",
      "14    3985\n",
      "27    3924\n",
      "15    3916\n",
      "10    3836\n",
      "4     3830\n",
      "3     3818\n",
      "20    3807\n",
      "19    3737\n",
      "22    3704\n",
      "7     3642\n",
      "5     3587\n",
      "12    3559\n",
      "25    3533\n",
      "13    3471\n",
      "16    3444\n",
      "6     3412\n",
      "9     3214\n",
      "26    3141\n",
      "1     2937\n",
      "23    2899\n",
      "30    2774\n",
      "8     2747\n",
      "2     2730\n",
      "29    2553\n",
      "31    2533\n",
      "Name: app_d, dtype: int64\n",
      "Значения признака app_m:\n",
      "3    31597\n",
      "2    27097\n",
      "4    26266\n",
      "1    25188\n",
      "Name: app_m, dtype: int64\n",
      "Значения признака app_wd:\n",
      "1    18180\n",
      "0    17858\n",
      "2    17581\n",
      "3    17421\n",
      "4    16749\n",
      "5    12202\n",
      "6    10157\n",
      "Name: app_wd, dtype: int64\n"
     ]
    }
   ],
   "source": [
    "# убедимся, что корректно отнесли признаки к категориальным: они должны иметь конечное число значений\n",
    "for col in cat_cols:\n",
    "    print(f'Значения признака {col}:')\n",
    "    print(data[col].value_counts())"
   ]
  },
  {
   "cell_type": "code",
   "execution_count": 35,
   "metadata": {
    "execution": {
     "iopub.execute_input": "2021-04-11T17:19:10.781921Z",
     "iopub.status.busy": "2021-04-11T17:19:10.781307Z",
     "iopub.status.idle": "2021-04-11T17:19:11.270091Z",
     "shell.execute_reply": "2021-04-11T17:19:11.269589Z"
    },
    "papermill": {
     "duration": 0.549303,
     "end_time": "2021-04-11T17:19:11.270231",
     "exception": false,
     "start_time": "2021-04-11T17:19:10.720928",
     "status": "completed"
    },
    "tags": []
   },
   "outputs": [
    {
     "data": {
      "text/plain": [
       "<AxesSubplot:>"
      ]
     },
     "execution_count": 35,
     "metadata": {},
     "output_type": "execute_result"
    },
    {
     "data": {
      "image/png": "[encoded data removed]",
      "text/plain": [
       "<Figure size 432x288 with 1 Axes>"
      ]
     },
     "metadata": {
      "needs_background": "light"
     },
     "output_type": "display_data"
    }
   ],
   "source": [
    "# оценим значимость влияния бинарных и категорильных признаков на целевой признак\n",
    "imp_cat = pd.Series(mutual_info_classif(data[bin_cols + cat_cols], data['default'], discrete_features=True), \n",
    "                 index = bin_cols + cat_cols)\n",
    "imp_cat.sort_values(inplace = True)\n",
    "imp_cat.plot(kind = 'barh')"
   ]
  },
  {
   "cell_type": "code",
   "execution_count": 36,
   "metadata": {
    "execution": {
     "iopub.execute_input": "2021-04-11T17:19:11.381931Z",
     "iopub.status.busy": "2021-04-11T17:19:11.381194Z",
     "iopub.status.idle": "2021-04-11T17:19:11.385003Z",
     "shell.execute_reply": "2021-04-11T17:19:11.384374Z"
    },
    "papermill": {
     "duration": 0.063718,
     "end_time": "2021-04-11T17:19:11.385137",
     "exception": false,
     "start_time": "2021-04-11T17:19:11.321419",
     "status": "completed"
    },
    "tags": []
   },
   "outputs": [],
   "source": [
    "# по всей видимости, признаки даты заявки (месяц, день, день недели), пол заемщика и виды образования PRG, ACD, UGR мало связаны с целевым признаком\n",
    "# кроме того, отметим, что влияние признака car менее значимое, чем признак car_type, а так как суть признаков однотипна, то есть смысл оставить \n",
    "# только наиболее значимый из них car_type\n",
    "# удалим наименее значимые из категориальных и бинарных признаки\n",
    "cat_to_del = ['car', 'app_m', 'app_d', 'app_wd', 'sex', 'education_PGR', 'education_ACD', 'education_UGR']\n",
    "data.drop(cat_to_del, axis=1, inplace=True)"
   ]
  },
  {
   "cell_type": "code",
   "execution_count": 37,
   "metadata": {
    "execution": {
     "iopub.execute_input": "2021-04-11T17:19:11.493650Z",
     "iopub.status.busy": "2021-04-11T17:19:11.492775Z",
     "iopub.status.idle": "2021-04-11T17:19:11.495809Z",
     "shell.execute_reply": "2021-04-11T17:19:11.495235Z"
    },
    "papermill": {
     "duration": 0.058908,
     "end_time": "2021-04-11T17:19:11.495943",
     "exception": false,
     "start_time": "2021-04-11T17:19:11.437035",
     "status": "completed"
    },
    "tags": []
   },
   "outputs": [],
   "source": [
    "# из списков видов признаков удалим признаки, удавленные ранее из датасета\n",
    "for col in ['app_m', 'app_d', 'app_wd']:\n",
    "    cat_cols.remove(col)\n",
    "for col in ['car', 'sex', 'education_PGR', 'education_ACD', 'education_UGR']:\n",
    "    bin_cols.remove(col)"
   ]
  },
  {
   "cell_type": "code",
   "execution_count": 38,
   "metadata": {
    "execution": {
     "iopub.execute_input": "2021-04-11T17:19:11.618787Z",
     "iopub.status.busy": "2021-04-11T17:19:11.618189Z",
     "iopub.status.idle": "2021-04-11T17:19:11.623271Z",
     "shell.execute_reply": "2021-04-11T17:19:11.622400Z"
    },
    "papermill": {
     "duration": 0.075554,
     "end_time": "2021-04-11T17:19:11.623414",
     "exception": false,
     "start_time": "2021-04-11T17:19:11.547860",
     "status": "completed"
    },
    "tags": []
   },
   "outputs": [
    {
     "data": {
      "text/html": [
       "<div>\n",
       "<style scoped>\n",
       "    .dataframe tbody tr th:only-of-type {\n",
       "        vertical-align: middle;\n",
       "    }\n",
       "\n",
       "    .dataframe tbody tr th {\n",
       "        vertical-align: top;\n",
       "    }\n",
       "\n",
       "    .dataframe thead th {\n",
       "        text-align: right;\n",
       "    }\n",
       "</style>\n",
       "<table border=\"1\" class=\"dataframe\">\n",
       "  <thead>\n",
       "    <tr style=\"text-align: right;\">\n",
       "      <th></th>\n",
       "      <th>age</th>\n",
       "      <th>car_type</th>\n",
       "      <th>decline_app_cnt</th>\n",
       "      <th>good_work</th>\n",
       "      <th>score_bki</th>\n",
       "      <th>bki_request_cnt</th>\n",
       "      <th>region_rating</th>\n",
       "      <th>home_address</th>\n",
       "      <th>work_address</th>\n",
       "      <th>income</th>\n",
       "      <th>sna</th>\n",
       "      <th>first_time</th>\n",
       "      <th>foreign_passport</th>\n",
       "      <th>test_df</th>\n",
       "      <th>default</th>\n",
       "      <th>education_GRD</th>\n",
       "      <th>education_SCH</th>\n",
       "    </tr>\n",
       "  </thead>\n",
       "  <tbody>\n",
       "    <tr>\n",
       "      <th>0</th>\n",
       "      <td>29</td>\n",
       "      <td>1</td>\n",
       "      <td>0</td>\n",
       "      <td>0</td>\n",
       "      <td>-2.271884</td>\n",
       "      <td>3</td>\n",
       "      <td>50</td>\n",
       "      <td>1</td>\n",
       "      <td>2</td>\n",
       "      <td>50000</td>\n",
       "      <td>1</td>\n",
       "      <td>4</td>\n",
       "      <td>0</td>\n",
       "      <td>1</td>\n",
       "      <td>0</td>\n",
       "      <td>1</td>\n",
       "      <td>0</td>\n",
       "    </tr>\n",
       "    <tr>\n",
       "      <th>1</th>\n",
       "      <td>39</td>\n",
       "      <td>0</td>\n",
       "      <td>5</td>\n",
       "      <td>0</td>\n",
       "      <td>-1.504999</td>\n",
       "      <td>2</td>\n",
       "      <td>50</td>\n",
       "      <td>1</td>\n",
       "      <td>2</td>\n",
       "      <td>5000</td>\n",
       "      <td>4</td>\n",
       "      <td>3</td>\n",
       "      <td>0</td>\n",
       "      <td>1</td>\n",
       "      <td>0</td>\n",
       "      <td>0</td>\n",
       "      <td>1</td>\n",
       "    </tr>\n",
       "    <tr>\n",
       "      <th>2</th>\n",
       "      <td>50</td>\n",
       "      <td>1</td>\n",
       "      <td>0</td>\n",
       "      <td>0</td>\n",
       "      <td>-1.691339</td>\n",
       "      <td>1</td>\n",
       "      <td>50</td>\n",
       "      <td>1</td>\n",
       "      <td>2</td>\n",
       "      <td>30000</td>\n",
       "      <td>1</td>\n",
       "      <td>3</td>\n",
       "      <td>1</td>\n",
       "      <td>1</td>\n",
       "      <td>0</td>\n",
       "      <td>0</td>\n",
       "      <td>0</td>\n",
       "    </tr>\n",
       "    <tr>\n",
       "      <th>3</th>\n",
       "      <td>56</td>\n",
       "      <td>0</td>\n",
       "      <td>0</td>\n",
       "      <td>0</td>\n",
       "      <td>-2.374182</td>\n",
       "      <td>1</td>\n",
       "      <td>40</td>\n",
       "      <td>1</td>\n",
       "      <td>2</td>\n",
       "      <td>17000</td>\n",
       "      <td>1</td>\n",
       "      <td>3</td>\n",
       "      <td>0</td>\n",
       "      <td>1</td>\n",
       "      <td>0</td>\n",
       "      <td>0</td>\n",
       "      <td>1</td>\n",
       "    </tr>\n",
       "    <tr>\n",
       "      <th>4</th>\n",
       "      <td>38</td>\n",
       "      <td>0</td>\n",
       "      <td>0</td>\n",
       "      <td>0</td>\n",
       "      <td>-2.487502</td>\n",
       "      <td>0</td>\n",
       "      <td>80</td>\n",
       "      <td>2</td>\n",
       "      <td>3</td>\n",
       "      <td>120000</td>\n",
       "      <td>1</td>\n",
       "      <td>3</td>\n",
       "      <td>0</td>\n",
       "      <td>1</td>\n",
       "      <td>0</td>\n",
       "      <td>1</td>\n",
       "      <td>0</td>\n",
       "    </tr>\n",
       "    <tr>\n",
       "      <th>...</th>\n",
       "      <td>...</td>\n",
       "      <td>...</td>\n",
       "      <td>...</td>\n",
       "      <td>...</td>\n",
       "      <td>...</td>\n",
       "      <td>...</td>\n",
       "      <td>...</td>\n",
       "      <td>...</td>\n",
       "      <td>...</td>\n",
       "      <td>...</td>\n",
       "      <td>...</td>\n",
       "      <td>...</td>\n",
       "      <td>...</td>\n",
       "      <td>...</td>\n",
       "      <td>...</td>\n",
       "      <td>...</td>\n",
       "      <td>...</td>\n",
       "    </tr>\n",
       "    <tr>\n",
       "      <th>110143</th>\n",
       "      <td>45</td>\n",
       "      <td>0</td>\n",
       "      <td>0</td>\n",
       "      <td>0</td>\n",
       "      <td>-1.792064</td>\n",
       "      <td>3</td>\n",
       "      <td>50</td>\n",
       "      <td>1</td>\n",
       "      <td>2</td>\n",
       "      <td>17000</td>\n",
       "      <td>4</td>\n",
       "      <td>4</td>\n",
       "      <td>0</td>\n",
       "      <td>0</td>\n",
       "      <td>0</td>\n",
       "      <td>1</td>\n",
       "      <td>0</td>\n",
       "    </tr>\n",
       "    <tr>\n",
       "      <th>110144</th>\n",
       "      <td>41</td>\n",
       "      <td>1</td>\n",
       "      <td>0</td>\n",
       "      <td>0</td>\n",
       "      <td>-2.058029</td>\n",
       "      <td>1</td>\n",
       "      <td>50</td>\n",
       "      <td>2</td>\n",
       "      <td>2</td>\n",
       "      <td>70000</td>\n",
       "      <td>1</td>\n",
       "      <td>4</td>\n",
       "      <td>0</td>\n",
       "      <td>0</td>\n",
       "      <td>0</td>\n",
       "      <td>0</td>\n",
       "      <td>1</td>\n",
       "    </tr>\n",
       "    <tr>\n",
       "      <th>110145</th>\n",
       "      <td>31</td>\n",
       "      <td>0</td>\n",
       "      <td>0</td>\n",
       "      <td>0</td>\n",
       "      <td>-1.512635</td>\n",
       "      <td>4</td>\n",
       "      <td>80</td>\n",
       "      <td>2</td>\n",
       "      <td>3</td>\n",
       "      <td>45000</td>\n",
       "      <td>2</td>\n",
       "      <td>2</td>\n",
       "      <td>0</td>\n",
       "      <td>0</td>\n",
       "      <td>0</td>\n",
       "      <td>0</td>\n",
       "      <td>1</td>\n",
       "    </tr>\n",
       "    <tr>\n",
       "      <th>110146</th>\n",
       "      <td>29</td>\n",
       "      <td>0</td>\n",
       "      <td>0</td>\n",
       "      <td>1</td>\n",
       "      <td>-1.479334</td>\n",
       "      <td>3</td>\n",
       "      <td>50</td>\n",
       "      <td>1</td>\n",
       "      <td>3</td>\n",
       "      <td>13000</td>\n",
       "      <td>2</td>\n",
       "      <td>3</td>\n",
       "      <td>0</td>\n",
       "      <td>0</td>\n",
       "      <td>1</td>\n",
       "      <td>0</td>\n",
       "      <td>1</td>\n",
       "    </tr>\n",
       "    <tr>\n",
       "      <th>110147</th>\n",
       "      <td>34</td>\n",
       "      <td>0</td>\n",
       "      <td>0</td>\n",
       "      <td>0</td>\n",
       "      <td>-1.764711</td>\n",
       "      <td>2</td>\n",
       "      <td>50</td>\n",
       "      <td>2</td>\n",
       "      <td>3</td>\n",
       "      <td>25000</td>\n",
       "      <td>1</td>\n",
       "      <td>3</td>\n",
       "      <td>0</td>\n",
       "      <td>0</td>\n",
       "      <td>0</td>\n",
       "      <td>1</td>\n",
       "      <td>0</td>\n",
       "    </tr>\n",
       "  </tbody>\n",
       "</table>\n",
       "<p>110148 rows × 17 columns</p>\n",
       "</div>"
      ],
      "text/plain": [
       "        age  car_type  decline_app_cnt  good_work  score_bki  bki_request_cnt  \\\n",
       "0        29         1                0          0  -2.271884                3   \n",
       "1        39         0                5          0  -1.504999                2   \n",
       "2        50         1                0          0  -1.691339                1   \n",
       "3        56         0                0          0  -2.374182                1   \n",
       "4        38         0                0          0  -2.487502                0   \n",
       "...     ...       ...              ...        ...        ...              ...   \n",
       "110143   45         0                0          0  -1.792064                3   \n",
       "110144   41         1                0          0  -2.058029                1   \n",
       "110145   31         0                0          0  -1.512635                4   \n",
       "110146   29         0                0          1  -1.479334                3   \n",
       "110147   34         0                0          0  -1.764711                2   \n",
       "\n",
       "        region_rating  home_address  work_address  income  sna  first_time  \\\n",
       "0                  50             1             2   50000    1           4   \n",
       "1                  50             1             2    5000    4           3   \n",
       "2                  50             1             2   30000    1           3   \n",
       "3                  40             1             2   17000    1           3   \n",
       "4                  80             2             3  120000    1           3   \n",
       "...               ...           ...           ...     ...  ...         ...   \n",
       "110143             50             1             2   17000    4           4   \n",
       "110144             50             2             2   70000    1           4   \n",
       "110145             80             2             3   45000    2           2   \n",
       "110146             50             1             3   13000    2           3   \n",
       "110147             50             2             3   25000    1           3   \n",
       "\n",
       "        foreign_passport  test_df  default  education_GRD  education_SCH  \n",
       "0                      0        1        0              1              0  \n",
       "1                      0        1        0              0              1  \n",
       "2                      1        1        0              0              0  \n",
       "3                      0        1        0              0              1  \n",
       "4                      0        1        0              1              0  \n",
       "...                  ...      ...      ...            ...            ...  \n",
       "110143                 0        0        0              1              0  \n",
       "110144                 0        0        0              0              1  \n",
       "110145                 0        0        0              0              1  \n",
       "110146                 0        0        1              0              1  \n",
       "110147                 0        0        0              1              0  \n",
       "\n",
       "[110148 rows x 17 columns]"
      ]
     },
     "metadata": {},
     "output_type": "display_data"
    }
   ],
   "source": [
    "display(data)"
   ]
  },
  {
   "cell_type": "code",
   "execution_count": 39,
   "metadata": {
    "execution": {
     "iopub.execute_input": "2021-04-11T17:19:11.751382Z",
     "iopub.status.busy": "2021-04-11T17:19:11.749170Z",
     "iopub.status.idle": "2021-04-11T17:19:12.719249Z",
     "shell.execute_reply": "2021-04-11T17:19:12.718760Z"
    },
    "papermill": {
     "duration": 1.043398,
     "end_time": "2021-04-11T17:19:12.719388",
     "exception": false,
     "start_time": "2021-04-11T17:19:11.675990",
     "status": "completed"
    },
    "tags": []
   },
   "outputs": [
    {
     "data": {
      "image/png": "[encoded data removed]",
      "text/plain": [
       "<Figure size 432x288 with 1 Axes>"
      ]
     },
     "metadata": {
      "needs_background": "light"
     },
     "output_type": "display_data"
    },
    {
     "data": {
      "image/png": "[encoded data removed]",
      "text/plain": [
       "<Figure size 432x288 with 1 Axes>"
      ]
     },
     "metadata": {
      "needs_background": "light"
     },
     "output_type": "display_data"
    },
    {
     "data": {
      "image/png": "[encoded data removed]",
      "text/plain": [
       "<Figure size 432x288 with 1 Axes>"
      ]
     },
     "metadata": {
      "needs_background": "light"
     },
     "output_type": "display_data"
    },
    {
     "data": {
      "image/png": "[encoded data removed]",
      "text/plain": [
       "<Figure size 432x288 with 1 Axes>"
      ]
     },
     "metadata": {
      "needs_background": "light"
     },
     "output_type": "display_data"
    },
    {
     "data": {
      "image/png": "[encoded data removed]",
      "text/plain": [
       "<Figure size 432x288 with 1 Axes>"
      ]
     },
     "metadata": {
      "needs_background": "light"
     },
     "output_type": "display_data"
    }
   ],
   "source": [
    "# рассмотрим теперь количественные признаки\n",
    "for col in num_cols:\n",
    "    plt.figure()\n",
    "    sns.distplot(data[col], kde = False, rug=False)\n",
    "    plt.title(col)\n",
    "    plt.show()"
   ]
  },
  {
   "cell_type": "code",
   "execution_count": 40,
   "metadata": {
    "execution": {
     "iopub.execute_input": "2021-04-11T17:19:12.941829Z",
     "iopub.status.busy": "2021-04-11T17:19:12.940847Z",
     "iopub.status.idle": "2021-04-11T17:19:12.989667Z",
     "shell.execute_reply": "2021-04-11T17:19:12.989160Z"
    },
    "papermill": {
     "duration": 0.214512,
     "end_time": "2021-04-11T17:19:12.989812",
     "exception": false,
     "start_time": "2021-04-11T17:19:12.775300",
     "status": "completed"
    },
    "tags": []
   },
   "outputs": [
    {
     "name": "stdout",
     "output_type": "stream",
     "text": [
      "Признак age имеет следующее распределение:\n",
      "Границы диапазона признака: [21; 72]\n",
      "Границы выбросов: [3.000; 75.000]\n",
      "Выбросов нет!\n",
      "\n",
      "Признак decline_app_cnt имеет следующее распределение:\n",
      "Границы диапазона признака: [0; 33]\n",
      "Границы выбросов: [0.000; 0.000]\n",
      "Выбросы есть и составляют 16.956% от всех значений\n",
      "\n",
      "Признак score_bki имеет следующее распределение:\n",
      "Границы диапазона признака: [-3.62458632; 0.19977285]\n",
      "Границы выбросов: [-3.299; -0.529]\n",
      "Выбросы есть и составляют 0.470% от всех значений\n",
      "\n",
      "Признак bki_request_cnt имеет следующее распределение:\n",
      "Границы диапазона признака: [0; 53]\n",
      "Границы выбросов: [-4.500; 7.500]\n",
      "Выбросы есть и составляют 2.393% от всех значений\n",
      "\n",
      "Признак income имеет следующее распределение:\n",
      "Границы диапазона признака: [1000; 1000000]\n",
      "Границы выбросов: [-22000.000; 90000.000]\n",
      "Выбросы есть и составляют 6.355% от всех значений\n",
      "\n"
     ]
    }
   ],
   "source": [
    "# судя по полученным графикам, распределения всех количественных признаков, кроме score_bki, имеют смещения, и, скорее всего, выбросы. \n",
    "# проверим это\n",
    "def num_information(col):\n",
    "    print(f'Признак {col} имеет следующее распределение:')\n",
    "    perc25 = data[col].quantile(0.25)\n",
    "    perc75 = data[col].quantile(0.75)\n",
    "    IQR = perc75 - perc25\n",
    "    print(f'Границы диапазона признака: [{data[col].min()}; {data[col].max()}]')\n",
    "    print(f'Границы выбросов: [{perc25 - 1.5 * IQR:.3f}; {perc75 + 1.5 * IQR:.3f}]')\n",
    "    if (perc25 - 1.5 * IQR > data[col].min()) or (perc75 + 1.5 * IQR < data[col].max()): \n",
    "        perc_emissions = ((data[data[col] < (perc25 - 1.5 * IQR)].shape[0]) + data[data[col] > (perc75 + 1.5 * IQR)].shape[0]) / data[col].shape[0] * 100\n",
    "        print(f'Выбросы есть и составляют {perc_emissions:.3f}% от всех значений\\n')\n",
    "    else: \n",
    "        print('Выбросов нет!\\n')\n",
    "    return\n",
    "\n",
    "for col in num_cols:\n",
    "    num_information(col)\n"
   ]
  },
  {
   "cell_type": "markdown",
   "metadata": {
    "papermill": {
     "duration": 0.056265,
     "end_time": "2021-04-11T17:19:13.103770",
     "exception": false,
     "start_time": "2021-04-11T17:19:13.047505",
     "status": "completed"
    },
    "tags": []
   },
   "source": [
    "**FEATURE ENGINEERING**"
   ]
  },
  {
   "cell_type": "code",
   "execution_count": 41,
   "metadata": {
    "execution": {
     "iopub.execute_input": "2021-04-11T17:19:13.225711Z",
     "iopub.status.busy": "2021-04-11T17:19:13.224500Z",
     "iopub.status.idle": "2021-04-11T17:19:13.233386Z",
     "shell.execute_reply": "2021-04-11T17:19:13.232782Z"
    },
    "papermill": {
     "duration": 0.073541,
     "end_time": "2021-04-11T17:19:13.233534",
     "exception": false,
     "start_time": "2021-04-11T17:19:13.159993",
     "status": "completed"
    },
    "tags": []
   },
   "outputs": [],
   "source": [
    "# введём признак: средний доход по уровню региона\n",
    "income_mean_reg = data.groupby('region_rating')['income'].mean().to_dict()\n",
    "data['income_mean_region'] = data['region_rating'].map(income_mean_reg)"
   ]
  },
  {
   "cell_type": "code",
   "execution_count": 42,
   "metadata": {
    "execution": {
     "iopub.execute_input": "2021-04-11T17:19:13.350220Z",
     "iopub.status.busy": "2021-04-11T17:19:13.349296Z",
     "iopub.status.idle": "2021-04-11T17:19:13.358713Z",
     "shell.execute_reply": "2021-04-11T17:19:13.358102Z"
    },
    "papermill": {
     "duration": 0.069556,
     "end_time": "2021-04-11T17:19:13.358846",
     "exception": false,
     "start_time": "2021-04-11T17:19:13.289290",
     "status": "completed"
    },
    "tags": []
   },
   "outputs": [],
   "source": [
    "# введём признак: средний доход по домашнему адресу\n",
    "income_mean_ha = data.groupby('home_address')['income'].mean().to_dict()\n",
    "data['income_mean_home_address'] = data['home_address'].map(income_mean_ha)"
   ]
  },
  {
   "cell_type": "code",
   "execution_count": 43,
   "metadata": {
    "execution": {
     "iopub.execute_input": "2021-04-11T17:19:13.476391Z",
     "iopub.status.busy": "2021-04-11T17:19:13.475465Z",
     "iopub.status.idle": "2021-04-11T17:19:13.483890Z",
     "shell.execute_reply": "2021-04-11T17:19:13.483397Z"
    },
    "papermill": {
     "duration": 0.069234,
     "end_time": "2021-04-11T17:19:13.484030",
     "exception": false,
     "start_time": "2021-04-11T17:19:13.414796",
     "status": "completed"
    },
    "tags": []
   },
   "outputs": [],
   "source": [
    "# введём признак: средний доход по рабочему адресу\n",
    "income_mean_wa = data.groupby('work_address')['income'].mean().to_dict()\n",
    "data['income_mean_work_address'] = data['work_address'].map(income_mean_wa)"
   ]
  },
  {
   "cell_type": "code",
   "execution_count": 44,
   "metadata": {
    "execution": {
     "iopub.execute_input": "2021-04-11T17:19:13.603263Z",
     "iopub.status.busy": "2021-04-11T17:19:13.601907Z",
     "iopub.status.idle": "2021-04-11T17:19:13.605671Z",
     "shell.execute_reply": "2021-04-11T17:19:13.606122Z"
    },
    "papermill": {
     "duration": 0.065412,
     "end_time": "2021-04-11T17:19:13.606282",
     "exception": false,
     "start_time": "2021-04-11T17:19:13.540870",
     "status": "completed"
    },
    "tags": []
   },
   "outputs": [],
   "source": [
    "# введём признак: относительную величину дохода в регионе: income / income_mean_region\n",
    "data['income_reg_comparative'] = data['income'] / data['income_mean_region']"
   ]
  },
  {
   "cell_type": "code",
   "execution_count": 45,
   "metadata": {
    "execution": {
     "iopub.execute_input": "2021-04-11T17:19:13.722893Z",
     "iopub.status.busy": "2021-04-11T17:19:13.722294Z",
     "iopub.status.idle": "2021-04-11T17:19:13.726548Z",
     "shell.execute_reply": "2021-04-11T17:19:13.725942Z"
    },
    "papermill": {
     "duration": 0.06434,
     "end_time": "2021-04-11T17:19:13.726727",
     "exception": false,
     "start_time": "2021-04-11T17:19:13.662387",
     "status": "completed"
    },
    "tags": []
   },
   "outputs": [],
   "source": [
    "# введём признак: относительную величину дохода по домашнему адресу: income / income_mean_home_address\n",
    "data['income_ha_comparative'] = data['income'] / data['income_mean_home_address']"
   ]
  },
  {
   "cell_type": "code",
   "execution_count": 46,
   "metadata": {
    "execution": {
     "iopub.execute_input": "2021-04-11T17:19:13.843391Z",
     "iopub.status.busy": "2021-04-11T17:19:13.842813Z",
     "iopub.status.idle": "2021-04-11T17:19:13.847227Z",
     "shell.execute_reply": "2021-04-11T17:19:13.846790Z"
    },
    "papermill": {
     "duration": 0.065037,
     "end_time": "2021-04-11T17:19:13.847359",
     "exception": false,
     "start_time": "2021-04-11T17:19:13.782322",
     "status": "completed"
    },
    "tags": []
   },
   "outputs": [],
   "source": [
    "# введём признак: относительную величину дохода по рабочему адресу: income / income_mean_work_address\n",
    "data['income_wa_comparative'] = data['income'] / data['income_mean_work_address']"
   ]
  },
  {
   "cell_type": "code",
   "execution_count": 47,
   "metadata": {
    "execution": {
     "iopub.execute_input": "2021-04-11T17:19:13.965592Z",
     "iopub.status.busy": "2021-04-11T17:19:13.964983Z",
     "iopub.status.idle": "2021-04-11T17:19:14.186232Z",
     "shell.execute_reply": "2021-04-11T17:19:14.185706Z"
    },
    "papermill": {
     "duration": 0.28261,
     "end_time": "2021-04-11T17:19:14.186367",
     "exception": false,
     "start_time": "2021-04-11T17:19:13.903757",
     "status": "completed"
    },
    "tags": []
   },
   "outputs": [],
   "source": [
    "# стандартизируем количественные признаки с помощью StandardScaler()\n",
    "num_cols += ['income_mean_region', 'income_mean_home_address', 'income_mean_work_address', 'income_reg_comparative', 'income_ha_comparative','income_wa_comparative']\n",
    "data[num_cols] = StandardScaler().fit_transform(data[num_cols])"
   ]
  },
  {
   "cell_type": "code",
   "execution_count": 48,
   "metadata": {
    "execution": {
     "iopub.execute_input": "2021-04-11T17:19:14.304823Z",
     "iopub.status.busy": "2021-04-11T17:19:14.304229Z",
     "iopub.status.idle": "2021-04-11T17:19:14.489012Z",
     "shell.execute_reply": "2021-04-11T17:19:14.488385Z"
    },
    "papermill": {
     "duration": 0.24588,
     "end_time": "2021-04-11T17:19:14.489166",
     "exception": false,
     "start_time": "2021-04-11T17:19:14.243286",
     "status": "completed"
    },
    "tags": []
   },
   "outputs": [
    {
     "data": {
      "text/plain": [
       "<AxesSubplot:>"
      ]
     },
     "execution_count": 48,
     "metadata": {},
     "output_type": "execute_result"
    },
    {
     "data": {
      "image/png": "[encoded data removed]",
      "text/plain": [
       "<Figure size 432x288 with 1 Axes>"
      ]
     },
     "metadata": {
      "needs_background": "light"
     },
     "output_type": "display_data"
    }
   ],
   "source": [
    "# рассмотрим влияние количественных признаков на целевой признак\n",
    "imp_num = pd.Series(f_classif(data[num_cols], data['default'])[0], index = num_cols)\n",
    "imp_num.sort_values(inplace = True)\n",
    "imp_num.plot(kind = 'barh')"
   ]
  },
  {
   "cell_type": "code",
   "execution_count": 49,
   "metadata": {
    "execution": {
     "iopub.execute_input": "2021-04-11T17:19:14.614365Z",
     "iopub.status.busy": "2021-04-11T17:19:14.613718Z",
     "iopub.status.idle": "2021-04-11T17:19:15.589927Z",
     "shell.execute_reply": "2021-04-11T17:19:15.589320Z"
    },
    "papermill": {
     "duration": 1.043264,
     "end_time": "2021-04-11T17:19:15.590074",
     "exception": false,
     "start_time": "2021-04-11T17:19:14.546810",
     "status": "completed"
    },
    "tags": []
   },
   "outputs": [
    {
     "data": {
      "text/plain": [
       "<AxesSubplot:>"
      ]
     },
     "execution_count": 49,
     "metadata": {},
     "output_type": "execute_result"
    },
    {
     "data": {
      "image/png": "[encoded data removed]",
      "text/plain": [
       "<Figure size 1080x720 with 2 Axes>"
      ]
     },
     "metadata": {
      "needs_background": "light"
     },
     "output_type": "display_data"
    }
   ],
   "source": [
    "# корреляция количественных признаков между собой:\n",
    "plt.figure(figsize=(15, 10))\n",
    "sns.heatmap(data[num_cols].corr().abs(), vmin=0, vmax=1, annot=True, fmt='.2f')"
   ]
  },
  {
   "cell_type": "code",
   "execution_count": 50,
   "metadata": {
    "execution": {
     "iopub.execute_input": "2021-04-11T17:19:15.718755Z",
     "iopub.status.busy": "2021-04-11T17:19:15.718143Z",
     "iopub.status.idle": "2021-04-11T17:19:15.895730Z",
     "shell.execute_reply": "2021-04-11T17:19:15.895138Z"
    },
    "papermill": {
     "duration": 0.24382,
     "end_time": "2021-04-11T17:19:15.895868",
     "exception": false,
     "start_time": "2021-04-11T17:19:15.652048",
     "status": "completed"
    },
    "tags": []
   },
   "outputs": [
    {
     "name": "stdout",
     "output_type": "stream",
     "text": [
      "Наиболее скоррелированными являются следующие признаки:\n",
      "income_ha_comparative     income                    0.998143\n",
      "income_wa_comparative     income_ha_comparative     0.998020\n",
      "                          income                    0.995570\n",
      "                          income_reg_comparative    0.955907\n",
      "income_ha_comparative     income_reg_comparative    0.954432\n",
      "income_reg_comparative    income                    0.948968\n",
      "income_mean_home_address  home_address              0.929800\n",
      "dtype: float64\n"
     ]
    }
   ],
   "source": [
    "# создадим функцию, показывающую наиболее скоррелированные пары признаков\n",
    "# на входе имеем data_frame - исходный датафрейм, col_featuries - количество наиболее скоррелированных пар признаков для показа (по умолчанию - 5)\n",
    "def corr_data(data_frame, col_featuries=5):\n",
    "    corr = data_frame.corr()\n",
    "    triangle = np.abs(corr).where(np.tril(np.ones(corr.shape), k=-1).astype(bool))\n",
    "    triangle = triangle.stack().sort_values(ascending=False)\n",
    "    print('Наиболее скоррелированными являются следующие признаки:', triangle[:col_featuries], sep='\\n')\n",
    "    return\n",
    "\n",
    "corr_data(data, 7)"
   ]
  },
  {
   "cell_type": "code",
   "execution_count": 51,
   "metadata": {
    "execution": {
     "iopub.execute_input": "2021-04-11T17:19:16.019710Z",
     "iopub.status.busy": "2021-04-11T17:19:16.019058Z",
     "iopub.status.idle": "2021-04-11T17:19:16.027030Z",
     "shell.execute_reply": "2021-04-11T17:19:16.027511Z"
    },
    "papermill": {
     "duration": 0.071857,
     "end_time": "2021-04-11T17:19:16.027707",
     "exception": false,
     "start_time": "2021-04-11T17:19:15.955850",
     "status": "completed"
    },
    "tags": []
   },
   "outputs": [],
   "source": [
    "# судя по значениям корреляции новые признаки относительной величины дохода оказались сильно скореллированы с признаком income\n",
    "# кроме того признак income_mean_work_address и income_mean_home_address обладают довольно значимой корреляцией 0,8\n",
    "# наименьшее влияние из категориальных признаков на целевой оказывают income_wa_comparative, income_ha_comparative, income, age, income_reg_comparative\n",
    "# удалим эти признаки, а также признак income_mean_work_address, как наименее важный из двух скоррелированных\n",
    "num_cols_del = ['income_wa_comparative', 'income_ha_comparative', 'income', 'age', 'income_reg_comparative', 'income_mean_work_address']\n",
    "data.drop(num_cols_del, axis=1, inplace=True)\n",
    "for col in num_cols_del:\n",
    "    num_cols.remove(col)"
   ]
  },
  {
   "cell_type": "code",
   "execution_count": 52,
   "metadata": {
    "execution": {
     "iopub.execute_input": "2021-04-11T17:19:16.156284Z",
     "iopub.status.busy": "2021-04-11T17:19:16.155223Z",
     "iopub.status.idle": "2021-04-11T17:19:17.797749Z",
     "shell.execute_reply": "2021-04-11T17:19:17.798181Z"
    },
    "papermill": {
     "duration": 1.709699,
     "end_time": "2021-04-11T17:19:17.798345",
     "exception": false,
     "start_time": "2021-04-11T17:19:16.088646",
     "status": "completed"
    },
    "tags": []
   },
   "outputs": [
    {
     "data": {
      "image/png": "[encoded data removed]",
      "text/plain": [
       "<Figure size 576x288 with 1 Axes>"
      ]
     },
     "metadata": {
      "needs_background": "light"
     },
     "output_type": "display_data"
    },
    {
     "data": {
      "image/png": "[encoded data removed]",
      "text/plain": [
       "<Figure size 576x288 with 1 Axes>"
      ]
     },
     "metadata": {
      "needs_background": "light"
     },
     "output_type": "display_data"
    },
    {
     "data": {
      "image/png": "[encoded data removed]",
      "text/plain": [
       "<Figure size 576x288 with 1 Axes>"
      ]
     },
     "metadata": {
      "needs_background": "light"
     },
     "output_type": "display_data"
    },
    {
     "data": {
      "image/png": "[encoded data removed]",
      "text/plain": [
       "<Figure size 576x288 with 1 Axes>"
      ]
     },
     "metadata": {
      "needs_background": "light"
     },
     "output_type": "display_data"
    },
    {
     "data": {
      "image/png": "[encoded data removed]",
      "text/plain": [
       "<Figure size 576x288 with 1 Axes>"
      ]
     },
     "metadata": {
      "needs_background": "light"
     },
     "output_type": "display_data"
    },
    {
     "data": {
      "image/png": "[encoded data removed]",
      "text/plain": [
       "<Figure size 576x288 with 1 Axes>"
      ]
     },
     "metadata": {
      "needs_background": "light"
     },
     "output_type": "display_data"
    },
    {
     "data": {
      "image/png": "[encoded data removed]",
      "text/plain": [
       "<Figure size 576x288 with 1 Axes>"
      ]
     },
     "metadata": {
      "needs_background": "light"
     },
     "output_type": "display_data"
    },
    {
     "data": {
      "image/png": "[encoded data removed]",
      "text/plain": [
       "<Figure size 576x288 with 1 Axes>"
      ]
     },
     "metadata": {
      "needs_background": "light"
     },
     "output_type": "display_data"
    },
    {
     "data": {
      "image/png": "[encoded data removed]",
      "text/plain": [
       "<Figure size 576x288 with 1 Axes>"
      ]
     },
     "metadata": {
      "needs_background": "light"
     },
     "output_type": "display_data"
    },
    {
     "data": {
      "image/png": "[encoded data removed]",
      "text/plain": [
       "<Figure size 576x288 with 1 Axes>"
      ]
     },
     "metadata": {
      "needs_background": "light"
     },
     "output_type": "display_data"
    }
   ],
   "source": [
    "# рассмотрим распределение оставшихся категориальных и бинарных признаков по целевомы признаку в процентах \n",
    "data1 = data[data[\"test_df\"] == 0]\n",
    "for col in bin_cols + cat_cols:\n",
    "    plt.figure(figsize=(8, 4))\n",
    "    prop_df = data1[col].groupby(data1[\"default\"]).value_counts(normalize=True).rename(\"percent\").reset_index()\n",
    "    prop_df[\"percent\"] *= 100\n",
    "    sns.barplot(x=col, y=\"percent\", hue=\"default\", data=prop_df)\n",
    "    plt.title(f\"Распределение признака {col}\")"
   ]
  },
  {
   "cell_type": "markdown",
   "metadata": {
    "papermill": {
     "duration": 0.065928,
     "end_time": "2021-04-11T17:19:17.930521",
     "exception": false,
     "start_time": "2021-04-11T17:19:17.864593",
     "status": "completed"
    },
    "tags": []
   },
   "source": [
    "**Выводы по исследуемым категориальным и бинарным признакам:**\n",
    "\n",
    "car_type - клиентов с иномаркой около 20%, в целом клиенты с иномаркой допускают чуть меньше дефолтов;\n",
    "\n",
    "good_work - хорошую работу имеет менее 20% обратившихся за кредитом, и такие люди чуть меньше допускают дефолты;\n",
    "\n",
    "foreing_passport - иностранный паспорт также у менее, чем 20% обратившихся, и в целом граждане с таким паспортом менее дефолтные;\n",
    "\n",
    "education_GRD - этот вид образования имеет порядка 20-30% обратившихся за кредитом, наличие этого образования свидетельствует о чуть меньшей дефолтности;\n",
    "\n",
    "education_SCH - этот вид образования имеет порядка 50-60% обратившихся за кредитом, и довольно значительная их часть имеет тенденцию к невозврату;\n",
    "\n",
    "regional_rating - средит всех обратившихся за кредитом регионы с рейтингом 50 составляют 35-40%, с рейтингами 40, 60 - 15%-20%, при этом такие регионы являются наиболее дефолтными;\n",
    "\n",
    "home_address - наиболее задействованы виды адресов 1 и 2, причем до 60% дефолтов приходится на home_address=2;\n",
    "\n",
    "work_address - наиболее представлены обращения с адресов 3 и 2, и наиболе дефолтным является 3 (до 70%);\n",
    "\n",
    "sna - наиболее дефолтны заемщики с видами связи с клиентами банка 1 и 4;\n",
    "\n",
    "first_time - наиболее дефолтные заёмщики с видом связи 3 и 1\n"
   ]
  },
  {
   "cell_type": "code",
   "execution_count": 53,
   "metadata": {
    "execution": {
     "iopub.execute_input": "2021-04-11T17:19:18.066475Z",
     "iopub.status.busy": "2021-04-11T17:19:18.065624Z",
     "iopub.status.idle": "2021-04-11T17:19:18.089773Z",
     "shell.execute_reply": "2021-04-11T17:19:18.090198Z"
    },
    "papermill": {
     "duration": 0.093542,
     "end_time": "2021-04-11T17:19:18.090371",
     "exception": false,
     "start_time": "2021-04-11T17:19:17.996829",
     "status": "completed"
    },
    "tags": []
   },
   "outputs": [],
   "source": [
    "# с помощью метода .get_dummies преобразуем оставшиеся категориальные признаки\n",
    "data = pd.get_dummies(data, prefix=cat_cols, columns=cat_cols)"
   ]
  },
  {
   "cell_type": "code",
   "execution_count": 54,
   "metadata": {
    "execution": {
     "iopub.execute_input": "2021-04-11T17:19:18.231406Z",
     "iopub.status.busy": "2021-04-11T17:19:18.230874Z",
     "iopub.status.idle": "2021-04-11T17:19:18.261871Z",
     "shell.execute_reply": "2021-04-11T17:19:18.262371Z"
    },
    "papermill": {
     "duration": 0.103002,
     "end_time": "2021-04-11T17:19:18.262534",
     "exception": false,
     "start_time": "2021-04-11T17:19:18.159532",
     "status": "completed"
    },
    "tags": []
   },
   "outputs": [
    {
     "data": {
      "text/html": [
       "<div>\n",
       "<style scoped>\n",
       "    .dataframe tbody tr th:only-of-type {\n",
       "        vertical-align: middle;\n",
       "    }\n",
       "\n",
       "    .dataframe tbody tr th {\n",
       "        vertical-align: top;\n",
       "    }\n",
       "\n",
       "    .dataframe thead th {\n",
       "        text-align: right;\n",
       "    }\n",
       "</style>\n",
       "<table border=\"1\" class=\"dataframe\">\n",
       "  <thead>\n",
       "    <tr style=\"text-align: right;\">\n",
       "      <th></th>\n",
       "      <th>car_type</th>\n",
       "      <th>decline_app_cnt</th>\n",
       "      <th>good_work</th>\n",
       "      <th>score_bki</th>\n",
       "      <th>bki_request_cnt</th>\n",
       "      <th>foreign_passport</th>\n",
       "      <th>test_df</th>\n",
       "      <th>default</th>\n",
       "      <th>education_GRD</th>\n",
       "      <th>education_SCH</th>\n",
       "      <th>income_mean_region</th>\n",
       "      <th>income_mean_home_address</th>\n",
       "      <th>region_rating_20</th>\n",
       "      <th>region_rating_30</th>\n",
       "      <th>region_rating_40</th>\n",
       "      <th>region_rating_50</th>\n",
       "      <th>region_rating_60</th>\n",
       "      <th>region_rating_70</th>\n",
       "      <th>region_rating_80</th>\n",
       "      <th>home_address_1</th>\n",
       "      <th>home_address_2</th>\n",
       "      <th>home_address_3</th>\n",
       "      <th>work_address_1</th>\n",
       "      <th>work_address_2</th>\n",
       "      <th>work_address_3</th>\n",
       "      <th>sna_1</th>\n",
       "      <th>sna_2</th>\n",
       "      <th>sna_3</th>\n",
       "      <th>sna_4</th>\n",
       "      <th>first_time_1</th>\n",
       "      <th>first_time_2</th>\n",
       "      <th>first_time_3</th>\n",
       "      <th>first_time_4</th>\n",
       "    </tr>\n",
       "  </thead>\n",
       "  <tbody>\n",
       "    <tr>\n",
       "      <th>0</th>\n",
       "      <td>1</td>\n",
       "      <td>-0.341893</td>\n",
       "      <td>0</td>\n",
       "      <td>-0.735587</td>\n",
       "      <td>0.438921</td>\n",
       "      <td>0</td>\n",
       "      <td>1</td>\n",
       "      <td>0</td>\n",
       "      <td>1</td>\n",
       "      <td>0</td>\n",
       "      <td>-0.581149</td>\n",
       "      <td>-1.113856</td>\n",
       "      <td>0</td>\n",
       "      <td>0</td>\n",
       "      <td>0</td>\n",
       "      <td>1</td>\n",
       "      <td>0</td>\n",
       "      <td>0</td>\n",
       "      <td>0</td>\n",
       "      <td>1</td>\n",
       "      <td>0</td>\n",
       "      <td>0</td>\n",
       "      <td>0</td>\n",
       "      <td>1</td>\n",
       "      <td>0</td>\n",
       "      <td>1</td>\n",
       "      <td>0</td>\n",
       "      <td>0</td>\n",
       "      <td>0</td>\n",
       "      <td>0</td>\n",
       "      <td>0</td>\n",
       "      <td>0</td>\n",
       "      <td>1</td>\n",
       "    </tr>\n",
       "    <tr>\n",
       "      <th>1</th>\n",
       "      <td>0</td>\n",
       "      <td>5.915180</td>\n",
       "      <td>0</td>\n",
       "      <td>0.800039</td>\n",
       "      <td>-0.002207</td>\n",
       "      <td>0</td>\n",
       "      <td>1</td>\n",
       "      <td>0</td>\n",
       "      <td>0</td>\n",
       "      <td>1</td>\n",
       "      <td>-0.581149</td>\n",
       "      <td>-1.113856</td>\n",
       "      <td>0</td>\n",
       "      <td>0</td>\n",
       "      <td>0</td>\n",
       "      <td>1</td>\n",
       "      <td>0</td>\n",
       "      <td>0</td>\n",
       "      <td>0</td>\n",
       "      <td>1</td>\n",
       "      <td>0</td>\n",
       "      <td>0</td>\n",
       "      <td>0</td>\n",
       "      <td>1</td>\n",
       "      <td>0</td>\n",
       "      <td>0</td>\n",
       "      <td>0</td>\n",
       "      <td>0</td>\n",
       "      <td>1</td>\n",
       "      <td>0</td>\n",
       "      <td>0</td>\n",
       "      <td>1</td>\n",
       "      <td>0</td>\n",
       "    </tr>\n",
       "    <tr>\n",
       "      <th>2</th>\n",
       "      <td>1</td>\n",
       "      <td>-0.341893</td>\n",
       "      <td>0</td>\n",
       "      <td>0.426908</td>\n",
       "      <td>-0.443335</td>\n",
       "      <td>1</td>\n",
       "      <td>1</td>\n",
       "      <td>0</td>\n",
       "      <td>0</td>\n",
       "      <td>0</td>\n",
       "      <td>-0.581149</td>\n",
       "      <td>-1.113856</td>\n",
       "      <td>0</td>\n",
       "      <td>0</td>\n",
       "      <td>0</td>\n",
       "      <td>1</td>\n",
       "      <td>0</td>\n",
       "      <td>0</td>\n",
       "      <td>0</td>\n",
       "      <td>1</td>\n",
       "      <td>0</td>\n",
       "      <td>0</td>\n",
       "      <td>0</td>\n",
       "      <td>1</td>\n",
       "      <td>0</td>\n",
       "      <td>1</td>\n",
       "      <td>0</td>\n",
       "      <td>0</td>\n",
       "      <td>0</td>\n",
       "      <td>0</td>\n",
       "      <td>0</td>\n",
       "      <td>1</td>\n",
       "      <td>0</td>\n",
       "    </tr>\n",
       "    <tr>\n",
       "      <th>3</th>\n",
       "      <td>0</td>\n",
       "      <td>-0.341893</td>\n",
       "      <td>0</td>\n",
       "      <td>-0.940432</td>\n",
       "      <td>-0.443335</td>\n",
       "      <td>0</td>\n",
       "      <td>1</td>\n",
       "      <td>0</td>\n",
       "      <td>0</td>\n",
       "      <td>1</td>\n",
       "      <td>-0.737310</td>\n",
       "      <td>-1.113856</td>\n",
       "      <td>0</td>\n",
       "      <td>0</td>\n",
       "      <td>1</td>\n",
       "      <td>0</td>\n",
       "      <td>0</td>\n",
       "      <td>0</td>\n",
       "      <td>0</td>\n",
       "      <td>1</td>\n",
       "      <td>0</td>\n",
       "      <td>0</td>\n",
       "      <td>0</td>\n",
       "      <td>1</td>\n",
       "      <td>0</td>\n",
       "      <td>1</td>\n",
       "      <td>0</td>\n",
       "      <td>0</td>\n",
       "      <td>0</td>\n",
       "      <td>0</td>\n",
       "      <td>0</td>\n",
       "      <td>1</td>\n",
       "      <td>0</td>\n",
       "    </tr>\n",
       "    <tr>\n",
       "      <th>4</th>\n",
       "      <td>0</td>\n",
       "      <td>-0.341893</td>\n",
       "      <td>0</td>\n",
       "      <td>-1.167347</td>\n",
       "      <td>-0.884463</td>\n",
       "      <td>0</td>\n",
       "      <td>1</td>\n",
       "      <td>0</td>\n",
       "      <td>1</td>\n",
       "      <td>0</td>\n",
       "      <td>1.926753</td>\n",
       "      <td>0.913434</td>\n",
       "      <td>0</td>\n",
       "      <td>0</td>\n",
       "      <td>0</td>\n",
       "      <td>0</td>\n",
       "      <td>0</td>\n",
       "      <td>0</td>\n",
       "      <td>1</td>\n",
       "      <td>0</td>\n",
       "      <td>1</td>\n",
       "      <td>0</td>\n",
       "      <td>0</td>\n",
       "      <td>0</td>\n",
       "      <td>1</td>\n",
       "      <td>1</td>\n",
       "      <td>0</td>\n",
       "      <td>0</td>\n",
       "      <td>0</td>\n",
       "      <td>0</td>\n",
       "      <td>0</td>\n",
       "      <td>1</td>\n",
       "      <td>0</td>\n",
       "    </tr>\n",
       "    <tr>\n",
       "      <th>...</th>\n",
       "      <td>...</td>\n",
       "      <td>...</td>\n",
       "      <td>...</td>\n",
       "      <td>...</td>\n",
       "      <td>...</td>\n",
       "      <td>...</td>\n",
       "      <td>...</td>\n",
       "      <td>...</td>\n",
       "      <td>...</td>\n",
       "      <td>...</td>\n",
       "      <td>...</td>\n",
       "      <td>...</td>\n",
       "      <td>...</td>\n",
       "      <td>...</td>\n",
       "      <td>...</td>\n",
       "      <td>...</td>\n",
       "      <td>...</td>\n",
       "      <td>...</td>\n",
       "      <td>...</td>\n",
       "      <td>...</td>\n",
       "      <td>...</td>\n",
       "      <td>...</td>\n",
       "      <td>...</td>\n",
       "      <td>...</td>\n",
       "      <td>...</td>\n",
       "      <td>...</td>\n",
       "      <td>...</td>\n",
       "      <td>...</td>\n",
       "      <td>...</td>\n",
       "      <td>...</td>\n",
       "      <td>...</td>\n",
       "      <td>...</td>\n",
       "      <td>...</td>\n",
       "    </tr>\n",
       "    <tr>\n",
       "      <th>110143</th>\n",
       "      <td>0</td>\n",
       "      <td>-0.341893</td>\n",
       "      <td>0</td>\n",
       "      <td>0.225214</td>\n",
       "      <td>0.438921</td>\n",
       "      <td>0</td>\n",
       "      <td>0</td>\n",
       "      <td>0</td>\n",
       "      <td>1</td>\n",
       "      <td>0</td>\n",
       "      <td>-0.581149</td>\n",
       "      <td>-1.113856</td>\n",
       "      <td>0</td>\n",
       "      <td>0</td>\n",
       "      <td>0</td>\n",
       "      <td>1</td>\n",
       "      <td>0</td>\n",
       "      <td>0</td>\n",
       "      <td>0</td>\n",
       "      <td>1</td>\n",
       "      <td>0</td>\n",
       "      <td>0</td>\n",
       "      <td>0</td>\n",
       "      <td>1</td>\n",
       "      <td>0</td>\n",
       "      <td>0</td>\n",
       "      <td>0</td>\n",
       "      <td>0</td>\n",
       "      <td>1</td>\n",
       "      <td>0</td>\n",
       "      <td>0</td>\n",
       "      <td>0</td>\n",
       "      <td>1</td>\n",
       "    </tr>\n",
       "    <tr>\n",
       "      <th>110144</th>\n",
       "      <td>1</td>\n",
       "      <td>-0.341893</td>\n",
       "      <td>0</td>\n",
       "      <td>-0.307360</td>\n",
       "      <td>-0.443335</td>\n",
       "      <td>0</td>\n",
       "      <td>0</td>\n",
       "      <td>0</td>\n",
       "      <td>0</td>\n",
       "      <td>1</td>\n",
       "      <td>-0.581149</td>\n",
       "      <td>0.913434</td>\n",
       "      <td>0</td>\n",
       "      <td>0</td>\n",
       "      <td>0</td>\n",
       "      <td>1</td>\n",
       "      <td>0</td>\n",
       "      <td>0</td>\n",
       "      <td>0</td>\n",
       "      <td>0</td>\n",
       "      <td>1</td>\n",
       "      <td>0</td>\n",
       "      <td>0</td>\n",
       "      <td>1</td>\n",
       "      <td>0</td>\n",
       "      <td>1</td>\n",
       "      <td>0</td>\n",
       "      <td>0</td>\n",
       "      <td>0</td>\n",
       "      <td>0</td>\n",
       "      <td>0</td>\n",
       "      <td>0</td>\n",
       "      <td>1</td>\n",
       "    </tr>\n",
       "    <tr>\n",
       "      <th>110145</th>\n",
       "      <td>0</td>\n",
       "      <td>-0.341893</td>\n",
       "      <td>0</td>\n",
       "      <td>0.784750</td>\n",
       "      <td>0.880049</td>\n",
       "      <td>0</td>\n",
       "      <td>0</td>\n",
       "      <td>0</td>\n",
       "      <td>0</td>\n",
       "      <td>1</td>\n",
       "      <td>1.926753</td>\n",
       "      <td>0.913434</td>\n",
       "      <td>0</td>\n",
       "      <td>0</td>\n",
       "      <td>0</td>\n",
       "      <td>0</td>\n",
       "      <td>0</td>\n",
       "      <td>0</td>\n",
       "      <td>1</td>\n",
       "      <td>0</td>\n",
       "      <td>1</td>\n",
       "      <td>0</td>\n",
       "      <td>0</td>\n",
       "      <td>0</td>\n",
       "      <td>1</td>\n",
       "      <td>0</td>\n",
       "      <td>1</td>\n",
       "      <td>0</td>\n",
       "      <td>0</td>\n",
       "      <td>0</td>\n",
       "      <td>1</td>\n",
       "      <td>0</td>\n",
       "      <td>0</td>\n",
       "    </tr>\n",
       "    <tr>\n",
       "      <th>110146</th>\n",
       "      <td>0</td>\n",
       "      <td>-0.341893</td>\n",
       "      <td>1</td>\n",
       "      <td>0.851432</td>\n",
       "      <td>0.438921</td>\n",
       "      <td>0</td>\n",
       "      <td>0</td>\n",
       "      <td>1</td>\n",
       "      <td>0</td>\n",
       "      <td>1</td>\n",
       "      <td>-0.581149</td>\n",
       "      <td>-1.113856</td>\n",
       "      <td>0</td>\n",
       "      <td>0</td>\n",
       "      <td>0</td>\n",
       "      <td>1</td>\n",
       "      <td>0</td>\n",
       "      <td>0</td>\n",
       "      <td>0</td>\n",
       "      <td>1</td>\n",
       "      <td>0</td>\n",
       "      <td>0</td>\n",
       "      <td>0</td>\n",
       "      <td>0</td>\n",
       "      <td>1</td>\n",
       "      <td>0</td>\n",
       "      <td>1</td>\n",
       "      <td>0</td>\n",
       "      <td>0</td>\n",
       "      <td>0</td>\n",
       "      <td>0</td>\n",
       "      <td>1</td>\n",
       "      <td>0</td>\n",
       "    </tr>\n",
       "    <tr>\n",
       "      <th>110147</th>\n",
       "      <td>0</td>\n",
       "      <td>-0.341893</td>\n",
       "      <td>0</td>\n",
       "      <td>0.279986</td>\n",
       "      <td>-0.002207</td>\n",
       "      <td>0</td>\n",
       "      <td>0</td>\n",
       "      <td>0</td>\n",
       "      <td>1</td>\n",
       "      <td>0</td>\n",
       "      <td>-0.581149</td>\n",
       "      <td>0.913434</td>\n",
       "      <td>0</td>\n",
       "      <td>0</td>\n",
       "      <td>0</td>\n",
       "      <td>1</td>\n",
       "      <td>0</td>\n",
       "      <td>0</td>\n",
       "      <td>0</td>\n",
       "      <td>0</td>\n",
       "      <td>1</td>\n",
       "      <td>0</td>\n",
       "      <td>0</td>\n",
       "      <td>0</td>\n",
       "      <td>1</td>\n",
       "      <td>1</td>\n",
       "      <td>0</td>\n",
       "      <td>0</td>\n",
       "      <td>0</td>\n",
       "      <td>0</td>\n",
       "      <td>0</td>\n",
       "      <td>1</td>\n",
       "      <td>0</td>\n",
       "    </tr>\n",
       "  </tbody>\n",
       "</table>\n",
       "<p>110148 rows × 33 columns</p>\n",
       "</div>"
      ],
      "text/plain": [
       "        car_type  decline_app_cnt  good_work  score_bki  bki_request_cnt  \\\n",
       "0              1        -0.341893          0  -0.735587         0.438921   \n",
       "1              0         5.915180          0   0.800039        -0.002207   \n",
       "2              1        -0.341893          0   0.426908        -0.443335   \n",
       "3              0        -0.341893          0  -0.940432        -0.443335   \n",
       "4              0        -0.341893          0  -1.167347        -0.884463   \n",
       "...          ...              ...        ...        ...              ...   \n",
       "110143         0        -0.341893          0   0.225214         0.438921   \n",
       "110144         1        -0.341893          0  -0.307360        -0.443335   \n",
       "110145         0        -0.341893          0   0.784750         0.880049   \n",
       "110146         0        -0.341893          1   0.851432         0.438921   \n",
       "110147         0        -0.341893          0   0.279986        -0.002207   \n",
       "\n",
       "        foreign_passport  test_df  default  education_GRD  education_SCH  \\\n",
       "0                      0        1        0              1              0   \n",
       "1                      0        1        0              0              1   \n",
       "2                      1        1        0              0              0   \n",
       "3                      0        1        0              0              1   \n",
       "4                      0        1        0              1              0   \n",
       "...                  ...      ...      ...            ...            ...   \n",
       "110143                 0        0        0              1              0   \n",
       "110144                 0        0        0              0              1   \n",
       "110145                 0        0        0              0              1   \n",
       "110146                 0        0        1              0              1   \n",
       "110147                 0        0        0              1              0   \n",
       "\n",
       "        income_mean_region  income_mean_home_address  region_rating_20  \\\n",
       "0                -0.581149                 -1.113856                 0   \n",
       "1                -0.581149                 -1.113856                 0   \n",
       "2                -0.581149                 -1.113856                 0   \n",
       "3                -0.737310                 -1.113856                 0   \n",
       "4                 1.926753                  0.913434                 0   \n",
       "...                    ...                       ...               ...   \n",
       "110143           -0.581149                 -1.113856                 0   \n",
       "110144           -0.581149                  0.913434                 0   \n",
       "110145            1.926753                  0.913434                 0   \n",
       "110146           -0.581149                 -1.113856                 0   \n",
       "110147           -0.581149                  0.913434                 0   \n",
       "\n",
       "        region_rating_30  region_rating_40  region_rating_50  \\\n",
       "0                      0                 0                 1   \n",
       "1                      0                 0                 1   \n",
       "2                      0                 0                 1   \n",
       "3                      0                 1                 0   \n",
       "4                      0                 0                 0   \n",
       "...                  ...               ...               ...   \n",
       "110143                 0                 0                 1   \n",
       "110144                 0                 0                 1   \n",
       "110145                 0                 0                 0   \n",
       "110146                 0                 0                 1   \n",
       "110147                 0                 0                 1   \n",
       "\n",
       "        region_rating_60  region_rating_70  region_rating_80  home_address_1  \\\n",
       "0                      0                 0                 0               1   \n",
       "1                      0                 0                 0               1   \n",
       "2                      0                 0                 0               1   \n",
       "3                      0                 0                 0               1   \n",
       "4                      0                 0                 1               0   \n",
       "...                  ...               ...               ...             ...   \n",
       "110143                 0                 0                 0               1   \n",
       "110144                 0                 0                 0               0   \n",
       "110145                 0                 0                 1               0   \n",
       "110146                 0                 0                 0               1   \n",
       "110147                 0                 0                 0               0   \n",
       "\n",
       "        home_address_2  home_address_3  work_address_1  work_address_2  \\\n",
       "0                    0               0               0               1   \n",
       "1                    0               0               0               1   \n",
       "2                    0               0               0               1   \n",
       "3                    0               0               0               1   \n",
       "4                    1               0               0               0   \n",
       "...                ...             ...             ...             ...   \n",
       "110143               0               0               0               1   \n",
       "110144               1               0               0               1   \n",
       "110145               1               0               0               0   \n",
       "110146               0               0               0               0   \n",
       "110147               1               0               0               0   \n",
       "\n",
       "        work_address_3  sna_1  sna_2  sna_3  sna_4  first_time_1  \\\n",
       "0                    0      1      0      0      0             0   \n",
       "1                    0      0      0      0      1             0   \n",
       "2                    0      1      0      0      0             0   \n",
       "3                    0      1      0      0      0             0   \n",
       "4                    1      1      0      0      0             0   \n",
       "...                ...    ...    ...    ...    ...           ...   \n",
       "110143               0      0      0      0      1             0   \n",
       "110144               0      1      0      0      0             0   \n",
       "110145               1      0      1      0      0             0   \n",
       "110146               1      0      1      0      0             0   \n",
       "110147               1      1      0      0      0             0   \n",
       "\n",
       "        first_time_2  first_time_3  first_time_4  \n",
       "0                  0             0             1  \n",
       "1                  0             1             0  \n",
       "2                  0             1             0  \n",
       "3                  0             1             0  \n",
       "4                  0             1             0  \n",
       "...              ...           ...           ...  \n",
       "110143             0             0             1  \n",
       "110144             0             0             1  \n",
       "110145             1             0             0  \n",
       "110146             0             1             0  \n",
       "110147             0             1             0  \n",
       "\n",
       "[110148 rows x 33 columns]"
      ]
     },
     "metadata": {},
     "output_type": "display_data"
    }
   ],
   "source": [
    "display(data)"
   ]
  },
  {
   "cell_type": "markdown",
   "metadata": {
    "papermill": {
     "duration": 0.067361,
     "end_time": "2021-04-11T17:19:18.397527",
     "exception": false,
     "start_time": "2021-04-11T17:19:18.330166",
     "status": "completed"
    },
    "tags": []
   },
   "source": [
    "**СТРОИМ МОДЕЛЬ**"
   ]
  },
  {
   "cell_type": "code",
   "execution_count": 55,
   "metadata": {
    "execution": {
     "iopub.execute_input": "2021-04-11T17:19:18.539148Z",
     "iopub.status.busy": "2021-04-11T17:19:18.537446Z",
     "iopub.status.idle": "2021-04-11T17:19:19.491861Z",
     "shell.execute_reply": "2021-04-11T17:19:19.491245Z"
    },
    "papermill": {
     "duration": 1.027655,
     "end_time": "2021-04-11T17:19:19.491997",
     "exception": false,
     "start_time": "2021-04-11T17:19:18.464342",
     "status": "completed"
    },
    "tags": []
   },
   "outputs": [],
   "source": [
    "train_df = data[data['test_df'] == 0].drop(['test_df'], axis=1)\n",
    "test_df = data[data['test_df'] == 1].drop(['test_df'], axis=1)\n",
    "X = train_df.drop(['default'], axis=1)\n",
    "y = train_df['default'] \n",
    "X_train, X_valid, y_train, y_valid = train_test_split(X, y, test_size=0.20, random_state=42)\n",
    "model = LogisticRegression(max_iter = 1000)\n",
    "model.fit(X_train, y_train)\n",
    "y_pred = model.predict(X_valid)"
   ]
  },
  {
   "cell_type": "markdown",
   "metadata": {
    "papermill": {
     "duration": 0.068971,
     "end_time": "2021-04-11T17:19:19.628481",
     "exception": false,
     "start_time": "2021-04-11T17:19:19.559510",
     "status": "completed"
    },
    "tags": []
   },
   "source": [
    "**КРИВАЯ ROC-AUC**"
   ]
  },
  {
   "cell_type": "code",
   "execution_count": 56,
   "metadata": {
    "execution": {
     "iopub.execute_input": "2021-04-11T17:19:19.771549Z",
     "iopub.status.busy": "2021-04-11T17:19:19.770982Z",
     "iopub.status.idle": "2021-04-11T17:19:19.928722Z",
     "shell.execute_reply": "2021-04-11T17:19:19.929148Z"
    },
    "papermill": {
     "duration": 0.232938,
     "end_time": "2021-04-11T17:19:19.929307",
     "exception": false,
     "start_time": "2021-04-11T17:19:19.696369",
     "status": "completed"
    },
    "tags": []
   },
   "outputs": [
    {
     "data": {
      "image/png": "[encoded data removed]",
      "text/plain": [
       "<Figure size 432x288 with 1 Axes>"
      ]
     },
     "metadata": {
      "needs_background": "light"
     },
     "output_type": "display_data"
    }
   ],
   "source": [
    "# построим график кривой ROC AUC\n",
    "probs = model.predict_proba(X_valid)[:,1]\n",
    "\n",
    "fpr, tpr, threshold = roc_curve(y_valid, probs)\n",
    "roc_auc = roc_auc_score(y_valid, probs)\n",
    "\n",
    "plt.figure()\n",
    "plt.plot([0, 1], label='Baseline', linestyle='--')\n",
    "plt.plot(fpr, tpr, label = 'Regression')\n",
    "plt.title('Logistic Regression ROC AUC = %0.3f' % roc_auc)\n",
    "plt.ylabel('True Positive Rate')\n",
    "plt.xlabel('False Positive Rate')\n",
    "plt.legend(loc = 'lower right')\n",
    "plt.show()"
   ]
  },
  {
   "cell_type": "code",
   "execution_count": 57,
   "metadata": {
    "execution": {
     "iopub.execute_input": "2021-04-11T17:19:20.073221Z",
     "iopub.status.busy": "2021-04-11T17:19:20.072504Z",
     "iopub.status.idle": "2021-04-11T17:19:20.075151Z",
     "shell.execute_reply": "2021-04-11T17:19:20.075546Z"
    },
    "papermill": {
     "duration": 0.077691,
     "end_time": "2021-04-11T17:19:20.075739",
     "exception": false,
     "start_time": "2021-04-11T17:19:19.998048",
     "status": "completed"
    },
    "tags": []
   },
   "outputs": [],
   "source": [
    "# создадим функцию печати всех необходимых для анализа метрик\n",
    "# на входе у нее датасеты y_true - исходные значения целевого показателя, y_pred - предсказанные значения целевого показателя, \n",
    "# y_pred_proba - предсказанные значения для оценки параметра ROC-AUC\n",
    "# на выходе - значения метрик для входных параметров\n",
    "def print_regression_metrics(y_true, y_pred, y_pred_proba):\n",
    "    acc = accuracy_score(y_true,y_pred)\n",
    "    pres = precision_score(y_true,y_pred)\n",
    "    rec = recall_score(y_true,y_pred)\n",
    "    f1 = f1_score(y_true,y_pred)\n",
    "    mse = mean_squared_error(y_true, y_pred)\n",
    "    rmse = np.sqrt(mse)\n",
    "    ROC_AUC = roc_auc_score(y_true, y_pred_proba)\n",
    "    \n",
    "    print(f'accuracy_score={acc:.3f}, precision_score={pres:.3f}, recall_score={rec:.3f}, f1_score={f1:.3f},\\nMSE = {mse:.3f}, RMSE = {rmse:.3f}, ROC-AUC={ROC_AUC:.3f}')\n",
    "    return\n"
   ]
  },
  {
   "cell_type": "code",
   "execution_count": 58,
   "metadata": {
    "execution": {
     "iopub.execute_input": "2021-04-11T17:19:20.220428Z",
     "iopub.status.busy": "2021-04-11T17:19:20.219823Z",
     "iopub.status.idle": "2021-04-11T17:19:21.092847Z",
     "shell.execute_reply": "2021-04-11T17:19:21.092232Z"
    },
    "papermill": {
     "duration": 0.948313,
     "end_time": "2021-04-11T17:19:21.092996",
     "exception": false,
     "start_time": "2021-04-11T17:19:20.144683",
     "status": "completed"
    },
    "tags": []
   },
   "outputs": [
    {
     "name": "stdout",
     "output_type": "stream",
     "text": [
      "accuracy_score=0.875, precision_score=0.419, recall_score=0.021, f1_score=0.041,\n",
      "MSE = 0.125, RMSE = 0.353, ROC-AUC=0.736\n"
     ]
    }
   ],
   "source": [
    "# проведем тестовое обучение модели на исходных данных   \n",
    "clf = LogisticRegression()\n",
    "clf.fit(X_train, y_train)\n",
    "y_pred = clf.predict(X_valid)\n",
    "y_pred_proba = clf.predict_proba(X_valid)[:, 1]\n",
    "print_regression_metrics(y_valid, y_pred, y_pred_proba)"
   ]
  },
  {
   "cell_type": "markdown",
   "metadata": {
    "papermill": {
     "duration": 0.069092,
     "end_time": "2021-04-11T17:19:21.231779",
     "exception": false,
     "start_time": "2021-04-11T17:19:21.162687",
     "status": "completed"
    },
    "tags": []
   },
   "source": [
    "полученные значения метрик уже довольно неплохие"
   ]
  },
  {
   "cell_type": "markdown",
   "metadata": {
    "papermill": {
     "duration": 0.070253,
     "end_time": "2021-04-11T17:19:21.371980",
     "exception": false,
     "start_time": "2021-04-11T17:19:21.301727",
     "status": "completed"
    },
    "tags": []
   },
   "source": [
    "**CONFUSION MATRIX**"
   ]
  },
  {
   "cell_type": "code",
   "execution_count": 59,
   "metadata": {
    "execution": {
     "iopub.execute_input": "2021-04-11T17:19:21.514469Z",
     "iopub.status.busy": "2021-04-11T17:19:21.513851Z",
     "iopub.status.idle": "2021-04-11T17:19:21.783887Z",
     "shell.execute_reply": "2021-04-11T17:19:21.784328Z"
    },
    "papermill": {
     "duration": 0.342911,
     "end_time": "2021-04-11T17:19:21.784502",
     "exception": false,
     "start_time": "2021-04-11T17:19:21.441591",
     "status": "completed"
    },
    "tags": []
   },
   "outputs": [
    {
     "data": {
      "image/png": "[encoded data removed]",
      "text/plain": [
       "<Figure size 432x288 with 2 Axes>"
      ]
     },
     "metadata": {
      "needs_background": "light"
     },
     "output_type": "display_data"
    }
   ],
   "source": [
    "# напишем функцию conf_matr\n",
    "# на входе у нее реальные и предсказанные значения целевого признака\n",
    "# на выходе - графическое отображение confusion matrix\n",
    "def conf_matr(y_valid, y_pred):\n",
    "    cm = confusion_matrix(y_valid, y_pred)\n",
    "    cmd = ConfusionMatrixDisplay(cm, display_labels=['0','1'])\n",
    "    cmd.plot()\n",
    "    cmd.ax_.set(xlabel='Predicted', ylabel='True')\n",
    "    return\n",
    "\n",
    "\n",
    "conf_matr(y_valid, y_pred)"
   ]
  },
  {
   "cell_type": "markdown",
   "metadata": {
    "papermill": {
     "duration": 0.070278,
     "end_time": "2021-04-11T17:19:21.925696",
     "exception": false,
     "start_time": "2021-04-11T17:19:21.855418",
     "status": "completed"
    },
    "tags": []
   },
   "source": [
    "Модель хорошо предсказывает недефолтных клиентов - порядка 88% попаданий, а вот дефолтных предсказывает с попаданием 42%, что довольно мало.\n",
    "Попробуем улучшить модель за счёт подбора гиперпараметров. "
   ]
  },
  {
   "cell_type": "markdown",
   "metadata": {
    "papermill": {
     "duration": 0.071801,
     "end_time": "2021-04-11T17:19:22.067872",
     "exception": false,
     "start_time": "2021-04-11T17:19:21.996071",
     "status": "completed"
    },
    "tags": []
   },
   "source": [
    "**ПОДБОР ГИПЕРПАРАМЕТРОВ**"
   ]
  },
  {
   "cell_type": "code",
   "execution_count": 60,
   "metadata": {
    "execution": {
     "iopub.execute_input": "2021-04-11T17:19:22.212776Z",
     "iopub.status.busy": "2021-04-11T17:19:22.212152Z",
     "iopub.status.idle": "2021-04-11T17:19:22.217675Z",
     "shell.execute_reply": "2021-04-11T17:19:22.218136Z"
    },
    "papermill": {
     "duration": 0.078793,
     "end_time": "2021-04-11T17:19:22.218298",
     "exception": false,
     "start_time": "2021-04-11T17:19:22.139505",
     "status": "completed"
    },
    "tags": []
   },
   "outputs": [],
   "source": [
    "# составим функцию selection_of_parameters подбора параметров с помощью GridSearchCV\n",
    "# на вход функция получает датасеты с данными X, целевыми значениями y, начальным значением параметра С - p0 (по умолчнию равно p0=0),\n",
    "# конечным значением параметра С - p1 (по умолчанию p1=10), количество интервалов разбиения между p0 и p1 - p_step (по умолчанию p_step=100)\n",
    "def selection_of_parameters(X, y, p0=0, p1=10, p_step=100):\n",
    "    penalty = ['l1', 'l2']\n",
    "    C = np.logspace(p0, p1, p_step)\n",
    "    hyperparameters = dict(C=C, penalty=penalty)\n",
    "\n",
    "    model = LogisticRegression()\n",
    "    model.fit(X, y)\n",
    "\n",
    "\n",
    "    clf = GridSearchCV(model, hyperparameters, cv=5, verbose=0)\n",
    "    best_model = clf.fit(X, y)\n",
    "\n",
    "    print('Лучшее Penalty:', best_model.best_estimator_.get_params()['penalty'])\n",
    "    print('Лучшее C:', best_model.best_estimator_.get_params()['C'])\n",
    "    return"
   ]
  },
  {
   "cell_type": "code",
   "execution_count": 61,
   "metadata": {
    "execution": {
     "iopub.execute_input": "2021-04-11T17:19:22.364407Z",
     "iopub.status.busy": "2021-04-11T17:19:22.363802Z",
     "iopub.status.idle": "2021-04-11T17:19:22.366662Z",
     "shell.execute_reply": "2021-04-11T17:19:22.367124Z"
    },
    "papermill": {
     "duration": 0.077967,
     "end_time": "2021-04-11T17:19:22.367278",
     "exception": false,
     "start_time": "2021-04-11T17:19:22.289311",
     "status": "completed"
    },
    "tags": []
   },
   "outputs": [],
   "source": [
    "# подберем гиперпараметры\n",
    "# selection_of_parameters(X_train, y_train, 0, 4, 100)"
   ]
  },
  {
   "cell_type": "markdown",
   "metadata": {
    "papermill": {
     "duration": 0.069606,
     "end_time": "2021-04-11T17:19:22.506891",
     "exception": false,
     "start_time": "2021-04-11T17:19:22.437285",
     "status": "completed"
    },
    "tags": []
   },
   "source": [
    "OUT:\n",
    "\n",
    "Лучшее Penalty: l2\n",
    "\n",
    "Лучшее C: 1.321941148466029"
   ]
  },
  {
   "cell_type": "code",
   "execution_count": 62,
   "metadata": {
    "execution": {
     "iopub.execute_input": "2021-04-11T17:19:22.654396Z",
     "iopub.status.busy": "2021-04-11T17:19:22.653817Z",
     "iopub.status.idle": "2021-04-11T17:19:22.659338Z",
     "shell.execute_reply": "2021-04-11T17:19:22.659832Z"
    },
    "papermill": {
     "duration": 0.080424,
     "end_time": "2021-04-11T17:19:22.660015",
     "exception": false,
     "start_time": "2021-04-11T17:19:22.579591",
     "status": "completed"
    },
    "tags": []
   },
   "outputs": [],
   "source": [
    "# напишем функцию solver, принимающую на входе датасет df, параметр par(значение параметра penalty), по умолчанию par='l2', \n",
    "# параметр const (значение параметра C), по умолчанию const=1\n",
    "# на выходе функция выдаёт на печать метрики модели и confusion matrix\n",
    "def solver(df, par='l2', const=1):\n",
    "    y = df['default']\n",
    "    X = df.drop(['default'], axis=1)\n",
    "    X_train, X_valid, y_train, y_valid = train_test_split(X, y, test_size=0.20, random_state=42, shuffle=True)    \n",
    "    clf = LogisticRegression(par, C=const, max_iter = 1000)\n",
    "    clf.fit(X_train, y_train)\n",
    "    y_pred = clf.predict(X_valid)\n",
    "    y_pred_proba = clf.predict_proba(X_valid)[:, 1]\n",
    "    print_regression_metrics(y_valid, y_pred, y_pred_proba)\n",
    "    conf_matr(y_valid, y_pred)\n",
    "    return "
   ]
  },
  {
   "cell_type": "code",
   "execution_count": 63,
   "metadata": {
    "execution": {
     "iopub.execute_input": "2021-04-11T17:19:22.805167Z",
     "iopub.status.busy": "2021-04-11T17:19:22.804543Z",
     "iopub.status.idle": "2021-04-11T17:19:23.850323Z",
     "shell.execute_reply": "2021-04-11T17:19:23.849834Z"
    },
    "papermill": {
     "duration": 1.11952,
     "end_time": "2021-04-11T17:19:23.850468",
     "exception": false,
     "start_time": "2021-04-11T17:19:22.730948",
     "status": "completed"
    },
    "tags": []
   },
   "outputs": [
    {
     "name": "stdout",
     "output_type": "stream",
     "text": [
      "accuracy_score=0.875, precision_score=0.419, recall_score=0.021, f1_score=0.041,\n",
      "MSE = 0.125, RMSE = 0.353, ROC-AUC=0.736\n"
     ]
    },
    {
     "data": {
      "image/png": "[encoded data removed]",
      "text/plain": [
       "<Figure size 432x288 with 2 Axes>"
      ]
     },
     "metadata": {
      "needs_background": "light"
     },
     "output_type": "display_data"
    }
   ],
   "source": [
    "# проверим метрики при полученных параметрах\n",
    "solver(train_df, 'l2', 1.321941148466029)"
   ]
  },
  {
   "cell_type": "markdown",
   "metadata": {
    "papermill": {
     "duration": 0.072324,
     "end_time": "2021-04-11T17:19:23.994883",
     "exception": false,
     "start_time": "2021-04-11T17:19:23.922559",
     "status": "completed"
    },
    "tags": []
   },
   "source": [
    "**SUBMISSION**"
   ]
  },
  {
   "cell_type": "code",
   "execution_count": 64,
   "metadata": {
    "execution": {
     "iopub.execute_input": "2021-04-11T17:19:24.145425Z",
     "iopub.status.busy": "2021-04-11T17:19:24.144357Z",
     "iopub.status.idle": "2021-04-11T17:19:24.177533Z",
     "shell.execute_reply": "2021-04-11T17:19:24.178017Z"
    },
    "papermill": {
     "duration": 0.111398,
     "end_time": "2021-04-11T17:19:24.178176",
     "exception": false,
     "start_time": "2021-04-11T17:19:24.066778",
     "status": "completed"
    },
    "tags": []
   },
   "outputs": [
    {
     "name": "stdout",
     "output_type": "stream",
     "text": [
      "Размеры датасетов: \n",
      "train_data:(73799, 32),\n",
      "test_data:(36349, 32),\n",
      "X_train:(73799, 31),\n",
      "y_train:(73799,),\n",
      "X_test:(36349, 31)\n"
     ]
    }
   ],
   "source": [
    "# разбиваем исходный датасет на тренинговый и тестовый\n",
    "train_data = data[data['test_df'] == 0].drop(['test_df'], axis=1)\n",
    "test_data = data[data['test_df'] == 1].drop(['test_df'], axis=1)\n",
    "\n",
    "# в тренинговом датасете выделяем X_train, y_train\n",
    "X_train = train_data.drop(['default'], axis=1)\n",
    "y_train = train_data['default'] \n",
    "# в тестовом датасете выделяем X_test\n",
    "X_test = test_data.drop(['default'], axis=1)\n",
    "\n",
    "# рассмотрим размеры полученных итоговых датасетов\n",
    "print(f'Размеры датасетов: \\ntrain_data:{train_data.shape},\\ntest_data:{test_data.shape},\\nX_train:{X_train.shape},\\ny_train:{y_train.shape},\\nX_test:{X_test.shape}')"
   ]
  },
  {
   "cell_type": "code",
   "execution_count": 65,
   "metadata": {
    "execution": {
     "iopub.execute_input": "2021-04-11T17:19:24.324281Z",
     "iopub.status.busy": "2021-04-11T17:19:24.323670Z",
     "iopub.status.idle": "2021-04-11T17:19:25.463743Z",
     "shell.execute_reply": "2021-04-11T17:19:25.463222Z"
    },
    "papermill": {
     "duration": 1.214086,
     "end_time": "2021-04-11T17:19:25.463894",
     "exception": false,
     "start_time": "2021-04-11T17:19:24.249808",
     "status": "completed"
    },
    "tags": []
   },
   "outputs": [],
   "source": [
    "# обучаем модель с учетом подобранных гиперпараметров\n",
    "best_model = LogisticRegression(random_state=42, penalty='l2', C=1.321941148466029, max_iter = 1000)\n",
    "best_model.fit(X_train, y_train)\n",
    "y_pred = best_model.predict(X_test)\n",
    "y_pred_proba = best_model.predict_proba(X_test)[:, 1]"
   ]
  },
  {
   "cell_type": "code",
   "execution_count": 66,
   "metadata": {
    "execution": {
     "iopub.execute_input": "2021-04-11T17:19:25.612292Z",
     "iopub.status.busy": "2021-04-11T17:19:25.611707Z",
     "iopub.status.idle": "2021-04-11T17:19:25.710189Z",
     "shell.execute_reply": "2021-04-11T17:19:25.709735Z"
    },
    "papermill": {
     "duration": 0.175022,
     "end_time": "2021-04-11T17:19:25.710327",
     "exception": false,
     "start_time": "2021-04-11T17:19:25.535305",
     "status": "completed"
    },
    "tags": []
   },
   "outputs": [
    {
     "data": {
      "text/html": [
       "<div>\n",
       "<style scoped>\n",
       "    .dataframe tbody tr th:only-of-type {\n",
       "        vertical-align: middle;\n",
       "    }\n",
       "\n",
       "    .dataframe tbody tr th {\n",
       "        vertical-align: top;\n",
       "    }\n",
       "\n",
       "    .dataframe thead th {\n",
       "        text-align: right;\n",
       "    }\n",
       "</style>\n",
       "<table border=\"1\" class=\"dataframe\">\n",
       "  <thead>\n",
       "    <tr style=\"text-align: right;\">\n",
       "      <th></th>\n",
       "      <th>client_id</th>\n",
       "      <th>default</th>\n",
       "    </tr>\n",
       "  </thead>\n",
       "  <tbody>\n",
       "    <tr>\n",
       "      <th>0</th>\n",
       "      <td>74835</td>\n",
       "      <td>0.033435</td>\n",
       "    </tr>\n",
       "    <tr>\n",
       "      <th>1</th>\n",
       "      <td>17527</td>\n",
       "      <td>0.344365</td>\n",
       "    </tr>\n",
       "    <tr>\n",
       "      <th>2</th>\n",
       "      <td>75683</td>\n",
       "      <td>0.063178</td>\n",
       "    </tr>\n",
       "    <tr>\n",
       "      <th>3</th>\n",
       "      <td>26883</td>\n",
       "      <td>0.074501</td>\n",
       "    </tr>\n",
       "    <tr>\n",
       "      <th>4</th>\n",
       "      <td>28862</td>\n",
       "      <td>0.028912</td>\n",
       "    </tr>\n",
       "  </tbody>\n",
       "</table>\n",
       "</div>"
      ],
      "text/plain": [
       "   client_id   default\n",
       "0      74835  0.033435\n",
       "1      17527  0.344365\n",
       "2      75683  0.063178\n",
       "3      26883  0.074501\n",
       "4      28862  0.028912"
      ]
     },
     "metadata": {},
     "output_type": "display_data"
    }
   ],
   "source": [
    "# создаем итоговый файл submission.csv\n",
    "submit = pd.DataFrame(test.client_id)\n",
    "submit['default']=y_pred_proba\n",
    "submit.to_csv('submission.csv', index=False)\n",
    "display(submit.head())"
   ]
  }
 ],
 "metadata": {
  "kernelspec": {
   "display_name": "Python 3",
   "language": "python",
   "name": "python3"
  },
  "language_info": {
   "codemirror_mode": {
    "name": "ipython",
    "version": 3
   },
   "file_extension": ".py",
   "mimetype": "text/x-python",
   "name": "python",
   "nbconvert_exporter": "python",
   "pygments_lexer": "ipython3",
   "version": "3.7.9"
  },
  "papermill": {
   "default_parameters": {},
   "duration": 28.810634,
   "end_time": "2021-04-11T17:19:26.492519",
   "environment_variables": {},
   "exception": null,
   "input_path": "__notebook__.ipynb",
   "output_path": "__notebook__.ipynb",
   "parameters": {},
   "start_time": "2021-04-11T17:18:57.681885",
   "version": "2.2.2"
  }
 },
 "nbformat": 4,
 "nbformat_minor": 4
}
